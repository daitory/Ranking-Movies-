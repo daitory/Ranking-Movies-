{
 "cells": [
  {
   "cell_type": "markdown",
   "id": "b133cd9b",
   "metadata": {},
   "source": [
    "\n",
    "\n"
   ]
  },
  {
   "cell_type": "markdown",
   "id": "e59c85dd",
   "metadata": {},
   "source": [
    "### Excercise (Likelihood of a good review)\n",
    "\n",
    "Based on \n",
    "\n",
    "**Kaggle Dataset** : https://www.kaggle.com/grouplens/movielens-20m-dataset\n",
    "\n",
    "I have developed a Movie Ranker following :\n",
    "\n",
    "* The user ratings have been transformed from an scale 1-5 into 0-1. In which 1 >= 4 , otherwise 0.\n",
    "\n",
    "\n",
    "\n",
    "* I have used my personal computer for this project, so in order to maintain the resources in control keeping the main idea of the excercise [\"create a movie ranker\" based on Kaggle's 20M Movielens Data],  I just used a sample of 500,000 ratings from the entire dataset.\n",
    "\n"
   ]
  },
  {
   "cell_type": "markdown",
   "id": "2bb0d73d",
   "metadata": {},
   "source": [
    "**Summary**: In order to create the Movie Ranker there will be used a Deep Cross Network (DCN) on Tensorflow. As the dataset lacks of user demographic info ( atributes like gender, age, country) could not been tested on behave of improve performance. Notwithstanding, with a Recall mean of 75.71% under a standar deviation (std) of 0.24%, there should be an answer for each user. \n",
    "             \n",
    "       "
   ]
  },
  {
   "cell_type": "markdown",
   "id": "e377f937",
   "metadata": {},
   "source": [
    "#### Packages used\n"
   ]
  },
  {
   "cell_type": "code",
   "execution_count": 1,
   "id": "ad950242",
   "metadata": {},
   "outputs": [],
   "source": [
    "import os\n",
    "import sys\n",
    "\n",
    "\n",
    "import pandas as pd\n",
    "import numpy  as np\n",
    "import matplotlib.pyplot  as plt\n",
    "import tensorflow as tf\n",
    "import tensorflow_recommenders as tfrs\n",
    "import seaborn as sns\n",
    "from typing import Dict, Text\n",
    "import itertools\n",
    "import datetime\n",
    "import time\n"
   ]
  },
  {
   "cell_type": "markdown",
   "id": "4f557b11",
   "metadata": {},
   "source": [
    "#### Data loading"
   ]
  },
  {
   "cell_type": "code",
   "execution_count": 2,
   "id": "c8346901",
   "metadata": {},
   "outputs": [],
   "source": [
    "#Movie-tag relevance data\n",
    "movie_tag_rel=pd.read_csv('genome_scores.csv')\n",
    "\n",
    "#Tag descriptions\n",
    "\n",
    "tag_desc=pd.read_csv('genome_tags.csv')\n",
    "\n",
    "#Movie information\n",
    "\n",
    "Movie_info=pd.read_csv('movie.csv')\n",
    "\n",
    "\n",
    "#Tags Given by users \n",
    "\n",
    "tags_given=pd.read_csv('tag.csv')\n",
    "\n",
    "\n",
    "#Ratings Given by users\n",
    "ratings_given=pd.read_csv('rating.csv')\n",
    "\n",
    "#link to other sources\n",
    "\n",
    "links=pd.read_csv('link.csv')\n",
    "\n",
    "\n"
   ]
  },
  {
   "cell_type": "markdown",
   "id": "229344cc",
   "metadata": {},
   "source": [
    "### 1.1 Data preparation "
   ]
  },
  {
   "cell_type": "markdown",
   "id": "e471eb5a",
   "metadata": {},
   "source": [
    "#### Rating Sample  (undersample)"
   ]
  },
  {
   "cell_type": "code",
   "execution_count": 3,
   "id": "6f86d1b0",
   "metadata": {},
   "outputs": [
    {
     "name": "stdout",
     "output_type": "stream",
     "text": [
      "Ratings shape:  (20000263, 4)\n",
      " \n",
      "Memory used in MB by the 20M Dataset: \n"
     ]
    },
    {
     "data": {
      "text/plain": [
       "userId       160.002104\n",
       "movieId      160.002104\n",
       "rating       160.002104\n",
       "timestamp    160.002104\n",
       "dtype: float64"
      ]
     },
     "execution_count": 3,
     "metadata": {},
     "output_type": "execute_result"
    }
   ],
   "source": [
    "# Original shape (20 Million ratings )\n",
    "print(\"Ratings shape: \",ratings_given.shape)\n",
    "\n",
    "print(\" \")\n",
    "\n",
    "# Memory usage \n",
    "print(\"Memory used in MB by the 20M Dataset: \") \n",
    "ratings_given.memory_usage(index=False)*10**(-6)"
   ]
  },
  {
   "cell_type": "code",
   "execution_count": 4,
   "id": "55330d24",
   "metadata": {},
   "outputs": [],
   "source": [
    "# Downsampling of the ratings (uniform distribution sample) \n",
    "\n",
    "np.random.seed(50)\n",
    "ratings_given0=ratings_given\n",
    "ratings_given=ratings_given.sample(n=500000,axis=0,random_state=50)"
   ]
  },
  {
   "cell_type": "code",
   "execution_count": 5,
   "id": "a400b186",
   "metadata": {},
   "outputs": [
    {
     "name": "stdout",
     "output_type": "stream",
     "text": [
      "Ratings shape:  (500000, 4)\n",
      " \n",
      "Memory used in MB by the 500K Dataset: \n"
     ]
    },
    {
     "data": {
      "text/plain": [
       "userId       4.0\n",
       "movieId      4.0\n",
       "rating       4.0\n",
       "timestamp    4.0\n",
       "dtype: float64"
      ]
     },
     "execution_count": 5,
     "metadata": {},
     "output_type": "execute_result"
    }
   ],
   "source": [
    "# Resulting Shape after sampling  \n",
    "print(\"Ratings shape: \",ratings_given.shape)\n",
    "\n",
    "print(\" \")\n",
    "\n",
    "\n",
    "# Memory usage \n",
    "print(\"Memory used in MB by the 500K Dataset: \") \n",
    "ratings_given.memory_usage(index=False)*10**(-6)"
   ]
  },
  {
   "cell_type": "markdown",
   "id": "553da450",
   "metadata": {},
   "source": [
    "### 1.2 Descriptive analysis"
   ]
  },
  {
   "cell_type": "code",
   "execution_count": 6,
   "id": "aa3910e3",
   "metadata": {},
   "outputs": [
    {
     "data": {
      "text/html": [
       "<div>\n",
       "<style scoped>\n",
       "    .dataframe tbody tr th:only-of-type {\n",
       "        vertical-align: middle;\n",
       "    }\n",
       "\n",
       "    .dataframe tbody tr th {\n",
       "        vertical-align: top;\n",
       "    }\n",
       "\n",
       "    .dataframe thead th {\n",
       "        text-align: right;\n",
       "    }\n",
       "</style>\n",
       "<table border=\"1\" class=\"dataframe\">\n",
       "  <thead>\n",
       "    <tr style=\"text-align: right;\">\n",
       "      <th></th>\n",
       "      <th>userId</th>\n",
       "      <th>movieId</th>\n",
       "      <th>rating</th>\n",
       "      <th>timestamp</th>\n",
       "    </tr>\n",
       "  </thead>\n",
       "  <tbody>\n",
       "    <tr>\n",
       "      <th>2482910</th>\n",
       "      <td>16811</td>\n",
       "      <td>55247</td>\n",
       "      <td>5.0</td>\n",
       "      <td>2014-07-01 02:40:43</td>\n",
       "    </tr>\n",
       "    <tr>\n",
       "      <th>14888745</th>\n",
       "      <td>102866</td>\n",
       "      <td>170</td>\n",
       "      <td>3.0</td>\n",
       "      <td>1997-11-19 14:14:17</td>\n",
       "    </tr>\n",
       "    <tr>\n",
       "      <th>19897837</th>\n",
       "      <td>137772</td>\n",
       "      <td>266</td>\n",
       "      <td>4.0</td>\n",
       "      <td>2000-03-19 18:30:40</td>\n",
       "    </tr>\n",
       "    <tr>\n",
       "      <th>13745487</th>\n",
       "      <td>94974</td>\n",
       "      <td>2324</td>\n",
       "      <td>4.0</td>\n",
       "      <td>1999-12-30 06:52:35</td>\n",
       "    </tr>\n",
       "    <tr>\n",
       "      <th>543886</th>\n",
       "      <td>3663</td>\n",
       "      <td>319</td>\n",
       "      <td>2.5</td>\n",
       "      <td>2004-09-06 15:06:40</td>\n",
       "    </tr>\n",
       "  </tbody>\n",
       "</table>\n",
       "</div>"
      ],
      "text/plain": [
       "          userId  movieId  rating            timestamp\n",
       "2482910    16811    55247     5.0  2014-07-01 02:40:43\n",
       "14888745  102866      170     3.0  1997-11-19 14:14:17\n",
       "19897837  137772      266     4.0  2000-03-19 18:30:40\n",
       "13745487   94974     2324     4.0  1999-12-30 06:52:35\n",
       "543886      3663      319     2.5  2004-09-06 15:06:40"
      ]
     },
     "execution_count": 6,
     "metadata": {},
     "output_type": "execute_result"
    }
   ],
   "source": [
    "ratings_given.head()"
   ]
  },
  {
   "cell_type": "markdown",
   "id": "26ed67ed",
   "metadata": {},
   "source": [
    "It is important to say that rating is not a numerical feature, indeed It represents categories from worst to excellent according  user appreciation "
   ]
  },
  {
   "cell_type": "code",
   "execution_count": 7,
   "id": "5832a938",
   "metadata": {},
   "outputs": [
    {
     "data": {
      "image/png": "[encoded data removed]",
      "text/plain": [
       "<Figure size 432x288 with 1 Axes>"
      ]
     },
     "metadata": {
      "needs_background": "light"
     },
     "output_type": "display_data"
    }
   ],
   "source": [
    "plt.bar(ratings_given[['movieId','rating']].groupby(['rating']).count().index.values,height=np.ravel(ratings_given[['movieId','rating']].groupby(['rating']).count().values))\n",
    "plt.title(' Rating Reported Bar plot ')\n",
    "plt.show()"
   ]
  },
  {
   "cell_type": "code",
   "execution_count": 8,
   "id": "5ea7f0ee",
   "metadata": {},
   "outputs": [
    {
     "data": {
      "text/html": [
       "<div>\n",
       "<style scoped>\n",
       "    .dataframe tbody tr th:only-of-type {\n",
       "        vertical-align: middle;\n",
       "    }\n",
       "\n",
       "    .dataframe tbody tr th {\n",
       "        vertical-align: top;\n",
       "    }\n",
       "\n",
       "    .dataframe thead th {\n",
       "        text-align: right;\n",
       "    }\n",
       "</style>\n",
       "<table border=\"1\" class=\"dataframe\">\n",
       "  <thead>\n",
       "    <tr style=\"text-align: right;\">\n",
       "      <th></th>\n",
       "      <th>userId</th>\n",
       "      <th>movieId</th>\n",
       "      <th>tag</th>\n",
       "      <th>timestamp</th>\n",
       "    </tr>\n",
       "  </thead>\n",
       "  <tbody>\n",
       "    <tr>\n",
       "      <th>0</th>\n",
       "      <td>18</td>\n",
       "      <td>4141</td>\n",
       "      <td>Mark Waters</td>\n",
       "      <td>2009-04-24 18:19:40</td>\n",
       "    </tr>\n",
       "    <tr>\n",
       "      <th>1</th>\n",
       "      <td>65</td>\n",
       "      <td>208</td>\n",
       "      <td>dark hero</td>\n",
       "      <td>2013-05-10 01:41:18</td>\n",
       "    </tr>\n",
       "    <tr>\n",
       "      <th>2</th>\n",
       "      <td>65</td>\n",
       "      <td>353</td>\n",
       "      <td>dark hero</td>\n",
       "      <td>2013-05-10 01:41:19</td>\n",
       "    </tr>\n",
       "    <tr>\n",
       "      <th>3</th>\n",
       "      <td>65</td>\n",
       "      <td>521</td>\n",
       "      <td>noir thriller</td>\n",
       "      <td>2013-05-10 01:39:43</td>\n",
       "    </tr>\n",
       "    <tr>\n",
       "      <th>4</th>\n",
       "      <td>65</td>\n",
       "      <td>592</td>\n",
       "      <td>dark hero</td>\n",
       "      <td>2013-05-10 01:41:18</td>\n",
       "    </tr>\n",
       "  </tbody>\n",
       "</table>\n",
       "</div>"
      ],
      "text/plain": [
       "   userId  movieId            tag            timestamp\n",
       "0      18     4141    Mark Waters  2009-04-24 18:19:40\n",
       "1      65      208      dark hero  2013-05-10 01:41:18\n",
       "2      65      353      dark hero  2013-05-10 01:41:19\n",
       "3      65      521  noir thriller  2013-05-10 01:39:43\n",
       "4      65      592      dark hero  2013-05-10 01:41:18"
      ]
     },
     "execution_count": 8,
     "metadata": {},
     "output_type": "execute_result"
    }
   ],
   "source": [
    "tags_given.head()"
   ]
  },
  {
   "cell_type": "code",
   "execution_count": 9,
   "id": "e46dbc81",
   "metadata": {},
   "outputs": [
    {
     "data": {
      "text/html": [
       "<div>\n",
       "<style scoped>\n",
       "    .dataframe tbody tr th:only-of-type {\n",
       "        vertical-align: middle;\n",
       "    }\n",
       "\n",
       "    .dataframe tbody tr th {\n",
       "        vertical-align: top;\n",
       "    }\n",
       "\n",
       "    .dataframe thead th {\n",
       "        text-align: right;\n",
       "    }\n",
       "</style>\n",
       "<table border=\"1\" class=\"dataframe\">\n",
       "  <thead>\n",
       "    <tr style=\"text-align: right;\">\n",
       "      <th></th>\n",
       "      <th>userId</th>\n",
       "    </tr>\n",
       "    <tr>\n",
       "      <th>tag</th>\n",
       "      <th></th>\n",
       "    </tr>\n",
       "  </thead>\n",
       "  <tbody>\n",
       "    <tr>\n",
       "      <th>sci-fi</th>\n",
       "      <td>3384</td>\n",
       "    </tr>\n",
       "    <tr>\n",
       "      <th>based on a book</th>\n",
       "      <td>3281</td>\n",
       "    </tr>\n",
       "    <tr>\n",
       "      <th>atmospheric</th>\n",
       "      <td>2917</td>\n",
       "    </tr>\n",
       "    <tr>\n",
       "      <th>comedy</th>\n",
       "      <td>2779</td>\n",
       "    </tr>\n",
       "    <tr>\n",
       "      <th>action</th>\n",
       "      <td>2657</td>\n",
       "    </tr>\n",
       "    <tr>\n",
       "      <th>...</th>\n",
       "      <td>...</td>\n",
       "    </tr>\n",
       "    <tr>\n",
       "      <th>Toby Jones</th>\n",
       "      <td>1</td>\n",
       "    </tr>\n",
       "    <tr>\n",
       "      <th>Tobacco Industry</th>\n",
       "      <td>1</td>\n",
       "    </tr>\n",
       "    <tr>\n",
       "      <th>Toa Fraser</th>\n",
       "      <td>1</td>\n",
       "    </tr>\n",
       "    <tr>\n",
       "      <th>To see with Rachel</th>\n",
       "      <td>1</td>\n",
       "    </tr>\n",
       "    <tr>\n",
       "      <th>é˜®ä¸€é¸£</th>\n",
       "      <td>1</td>\n",
       "    </tr>\n",
       "  </tbody>\n",
       "</table>\n",
       "<p>38643 rows × 1 columns</p>\n",
       "</div>"
      ],
      "text/plain": [
       "                    userId\n",
       "tag                       \n",
       "sci-fi                3384\n",
       "based on a book       3281\n",
       "atmospheric           2917\n",
       "comedy                2779\n",
       "action                2657\n",
       "...                    ...\n",
       "Toby Jones               1\n",
       "Tobacco Industry         1\n",
       "Toa Fraser               1\n",
       "To see with Rachel       1\n",
       "é˜®ä¸€é¸£                1\n",
       "\n",
       "[38643 rows x 1 columns]"
      ]
     },
     "execution_count": 9,
     "metadata": {},
     "output_type": "execute_result"
    }
   ],
   "source": [
    "tags_given[['tag','userId']].groupby(['tag']).count().sort_values('userId',ascending=False)"
   ]
  },
  {
   "cell_type": "code",
   "execution_count": 10,
   "id": "877babcd",
   "metadata": {},
   "outputs": [
    {
     "data": {
      "text/html": [
       "<div>\n",
       "<style scoped>\n",
       "    .dataframe tbody tr th:only-of-type {\n",
       "        vertical-align: middle;\n",
       "    }\n",
       "\n",
       "    .dataframe tbody tr th {\n",
       "        vertical-align: top;\n",
       "    }\n",
       "\n",
       "    .dataframe thead th {\n",
       "        text-align: right;\n",
       "    }\n",
       "</style>\n",
       "<table border=\"1\" class=\"dataframe\">\n",
       "  <thead>\n",
       "    <tr style=\"text-align: right;\">\n",
       "      <th></th>\n",
       "      <th>tagId</th>\n",
       "      <th>tag</th>\n",
       "    </tr>\n",
       "  </thead>\n",
       "  <tbody>\n",
       "    <tr>\n",
       "      <th>0</th>\n",
       "      <td>1</td>\n",
       "      <td>007</td>\n",
       "    </tr>\n",
       "    <tr>\n",
       "      <th>1</th>\n",
       "      <td>2</td>\n",
       "      <td>007 (series)</td>\n",
       "    </tr>\n",
       "    <tr>\n",
       "      <th>2</th>\n",
       "      <td>3</td>\n",
       "      <td>18th century</td>\n",
       "    </tr>\n",
       "    <tr>\n",
       "      <th>3</th>\n",
       "      <td>4</td>\n",
       "      <td>1920s</td>\n",
       "    </tr>\n",
       "    <tr>\n",
       "      <th>4</th>\n",
       "      <td>5</td>\n",
       "      <td>1930s</td>\n",
       "    </tr>\n",
       "  </tbody>\n",
       "</table>\n",
       "</div>"
      ],
      "text/plain": [
       "   tagId           tag\n",
       "0      1           007\n",
       "1      2  007 (series)\n",
       "2      3  18th century\n",
       "3      4         1920s\n",
       "4      5         1930s"
      ]
     },
     "execution_count": 10,
     "metadata": {},
     "output_type": "execute_result"
    }
   ],
   "source": [
    "tag_desc.head()"
   ]
  },
  {
   "cell_type": "code",
   "execution_count": 11,
   "id": "12b9694e",
   "metadata": {},
   "outputs": [
    {
     "data": {
      "text/html": [
       "<div>\n",
       "<style scoped>\n",
       "    .dataframe tbody tr th:only-of-type {\n",
       "        vertical-align: middle;\n",
       "    }\n",
       "\n",
       "    .dataframe tbody tr th {\n",
       "        vertical-align: top;\n",
       "    }\n",
       "\n",
       "    .dataframe thead th {\n",
       "        text-align: right;\n",
       "    }\n",
       "</style>\n",
       "<table border=\"1\" class=\"dataframe\">\n",
       "  <thead>\n",
       "    <tr style=\"text-align: right;\">\n",
       "      <th></th>\n",
       "      <th>movieId</th>\n",
       "      <th>title</th>\n",
       "      <th>genres</th>\n",
       "    </tr>\n",
       "  </thead>\n",
       "  <tbody>\n",
       "    <tr>\n",
       "      <th>0</th>\n",
       "      <td>1</td>\n",
       "      <td>Toy Story (1995)</td>\n",
       "      <td>Adventure|Animation|Children|Comedy|Fantasy</td>\n",
       "    </tr>\n",
       "    <tr>\n",
       "      <th>1</th>\n",
       "      <td>2</td>\n",
       "      <td>Jumanji (1995)</td>\n",
       "      <td>Adventure|Children|Fantasy</td>\n",
       "    </tr>\n",
       "    <tr>\n",
       "      <th>2</th>\n",
       "      <td>3</td>\n",
       "      <td>Grumpier Old Men (1995)</td>\n",
       "      <td>Comedy|Romance</td>\n",
       "    </tr>\n",
       "    <tr>\n",
       "      <th>3</th>\n",
       "      <td>4</td>\n",
       "      <td>Waiting to Exhale (1995)</td>\n",
       "      <td>Comedy|Drama|Romance</td>\n",
       "    </tr>\n",
       "    <tr>\n",
       "      <th>4</th>\n",
       "      <td>5</td>\n",
       "      <td>Father of the Bride Part II (1995)</td>\n",
       "      <td>Comedy</td>\n",
       "    </tr>\n",
       "    <tr>\n",
       "      <th>5</th>\n",
       "      <td>6</td>\n",
       "      <td>Heat (1995)</td>\n",
       "      <td>Action|Crime|Thriller</td>\n",
       "    </tr>\n",
       "    <tr>\n",
       "      <th>6</th>\n",
       "      <td>7</td>\n",
       "      <td>Sabrina (1995)</td>\n",
       "      <td>Comedy|Romance</td>\n",
       "    </tr>\n",
       "    <tr>\n",
       "      <th>7</th>\n",
       "      <td>8</td>\n",
       "      <td>Tom and Huck (1995)</td>\n",
       "      <td>Adventure|Children</td>\n",
       "    </tr>\n",
       "    <tr>\n",
       "      <th>8</th>\n",
       "      <td>9</td>\n",
       "      <td>Sudden Death (1995)</td>\n",
       "      <td>Action</td>\n",
       "    </tr>\n",
       "    <tr>\n",
       "      <th>9</th>\n",
       "      <td>10</td>\n",
       "      <td>GoldenEye (1995)</td>\n",
       "      <td>Action|Adventure|Thriller</td>\n",
       "    </tr>\n",
       "  </tbody>\n",
       "</table>\n",
       "</div>"
      ],
      "text/plain": [
       "   movieId                               title  \\\n",
       "0        1                    Toy Story (1995)   \n",
       "1        2                      Jumanji (1995)   \n",
       "2        3             Grumpier Old Men (1995)   \n",
       "3        4            Waiting to Exhale (1995)   \n",
       "4        5  Father of the Bride Part II (1995)   \n",
       "5        6                         Heat (1995)   \n",
       "6        7                      Sabrina (1995)   \n",
       "7        8                 Tom and Huck (1995)   \n",
       "8        9                 Sudden Death (1995)   \n",
       "9       10                    GoldenEye (1995)   \n",
       "\n",
       "                                        genres  \n",
       "0  Adventure|Animation|Children|Comedy|Fantasy  \n",
       "1                   Adventure|Children|Fantasy  \n",
       "2                               Comedy|Romance  \n",
       "3                         Comedy|Drama|Romance  \n",
       "4                                       Comedy  \n",
       "5                        Action|Crime|Thriller  \n",
       "6                               Comedy|Romance  \n",
       "7                           Adventure|Children  \n",
       "8                                       Action  \n",
       "9                    Action|Adventure|Thriller  "
      ]
     },
     "execution_count": 11,
     "metadata": {},
     "output_type": "execute_result"
    }
   ],
   "source": [
    "Movie_info.head(10)"
   ]
  },
  {
   "cell_type": "code",
   "execution_count": 12,
   "id": "3da7a033",
   "metadata": {},
   "outputs": [
    {
     "data": {
      "text/plain": [
       "(27278, 3)"
      ]
     },
     "execution_count": 12,
     "metadata": {},
     "output_type": "execute_result"
    }
   ],
   "source": [
    "# there are 27,278 diffent movies in the dataset\n",
    "Movie_info.shape"
   ]
  },
  {
   "cell_type": "code",
   "execution_count": 13,
   "id": "d55e70c8",
   "metadata": {},
   "outputs": [
    {
     "data": {
      "text/html": [
       "<div>\n",
       "<style scoped>\n",
       "    .dataframe tbody tr th:only-of-type {\n",
       "        vertical-align: middle;\n",
       "    }\n",
       "\n",
       "    .dataframe tbody tr th {\n",
       "        vertical-align: top;\n",
       "    }\n",
       "\n",
       "    .dataframe thead th {\n",
       "        text-align: right;\n",
       "    }\n",
       "</style>\n",
       "<table border=\"1\" class=\"dataframe\">\n",
       "  <thead>\n",
       "    <tr style=\"text-align: right;\">\n",
       "      <th></th>\n",
       "      <th>movieId</th>\n",
       "      <th>tagId</th>\n",
       "      <th>relevance</th>\n",
       "    </tr>\n",
       "  </thead>\n",
       "  <tbody>\n",
       "    <tr>\n",
       "      <th>0</th>\n",
       "      <td>1</td>\n",
       "      <td>1</td>\n",
       "      <td>0.02500</td>\n",
       "    </tr>\n",
       "    <tr>\n",
       "      <th>1</th>\n",
       "      <td>1</td>\n",
       "      <td>2</td>\n",
       "      <td>0.02500</td>\n",
       "    </tr>\n",
       "    <tr>\n",
       "      <th>2</th>\n",
       "      <td>1</td>\n",
       "      <td>3</td>\n",
       "      <td>0.05775</td>\n",
       "    </tr>\n",
       "    <tr>\n",
       "      <th>3</th>\n",
       "      <td>1</td>\n",
       "      <td>4</td>\n",
       "      <td>0.09675</td>\n",
       "    </tr>\n",
       "    <tr>\n",
       "      <th>4</th>\n",
       "      <td>1</td>\n",
       "      <td>5</td>\n",
       "      <td>0.14675</td>\n",
       "    </tr>\n",
       "    <tr>\n",
       "      <th>5</th>\n",
       "      <td>1</td>\n",
       "      <td>6</td>\n",
       "      <td>0.21700</td>\n",
       "    </tr>\n",
       "    <tr>\n",
       "      <th>6</th>\n",
       "      <td>1</td>\n",
       "      <td>7</td>\n",
       "      <td>0.06700</td>\n",
       "    </tr>\n",
       "    <tr>\n",
       "      <th>7</th>\n",
       "      <td>1</td>\n",
       "      <td>8</td>\n",
       "      <td>0.26275</td>\n",
       "    </tr>\n",
       "    <tr>\n",
       "      <th>8</th>\n",
       "      <td>1</td>\n",
       "      <td>9</td>\n",
       "      <td>0.26200</td>\n",
       "    </tr>\n",
       "    <tr>\n",
       "      <th>9</th>\n",
       "      <td>1</td>\n",
       "      <td>10</td>\n",
       "      <td>0.03200</td>\n",
       "    </tr>\n",
       "  </tbody>\n",
       "</table>\n",
       "</div>"
      ],
      "text/plain": [
       "   movieId  tagId  relevance\n",
       "0        1      1    0.02500\n",
       "1        1      2    0.02500\n",
       "2        1      3    0.05775\n",
       "3        1      4    0.09675\n",
       "4        1      5    0.14675\n",
       "5        1      6    0.21700\n",
       "6        1      7    0.06700\n",
       "7        1      8    0.26275\n",
       "8        1      9    0.26200\n",
       "9        1     10    0.03200"
      ]
     },
     "execution_count": 13,
     "metadata": {},
     "output_type": "execute_result"
    }
   ],
   "source": [
    "movie_tag_rel.head(10)"
   ]
  },
  {
   "cell_type": "code",
   "execution_count": 14,
   "id": "35f82b35",
   "metadata": {},
   "outputs": [
    {
     "name": "stdout",
     "output_type": "stream",
     "text": [
      "NaN Values:  0\n"
     ]
    },
    {
     "data": {
      "text/plain": [
       "count    1.170977e+07\n",
       "mean     1.164833e-01\n",
       "std      1.542463e-01\n",
       "min      2.500000e-04\n",
       "25%      2.425000e-02\n",
       "50%      5.650000e-02\n",
       "75%      1.415000e-01\n",
       "max      1.000000e+00\n",
       "Name: relevance, dtype: float64"
      ]
     },
     "execution_count": 14,
     "metadata": {},
     "output_type": "execute_result"
    }
   ],
   "source": [
    "print(\"NaN Values: \" , movie_tag_rel['relevance'].isna().sum())\n",
    "movie_tag_rel['relevance'].describe()\n"
   ]
  },
  {
   "cell_type": "code",
   "execution_count": 15,
   "id": "6473d6a7",
   "metadata": {},
   "outputs": [
    {
     "data": {
      "image/png": "[encoded data removed]",
      "text/plain": [
       "<Figure size 432x288 with 1 Axes>"
      ]
     },
     "metadata": {
      "needs_background": "light"
     },
     "output_type": "display_data"
    }
   ],
   "source": [
    "plt.hist(movie_tag_rel['relevance'])\n",
    "plt.title('Histogram of movie relevance')\n",
    "plt.show()"
   ]
  },
  {
   "cell_type": "markdown",
   "id": "df26282d",
   "metadata": {},
   "source": [
    "#### Feature Engineering"
   ]
  },
  {
   "cell_type": "code",
   "execution_count": 16,
   "id": "1b509e5b",
   "metadata": {},
   "outputs": [],
   "source": [
    "\n",
    "ratings_given['timestamp_numeric']=np.array([datetime.datetime.toordinal(datetime.datetime.fromisoformat(ratings_given['timestamp'].iloc[i])) for i in range(ratings_given.shape[0])])\n",
    "ratings_given['weekday_numeric']=np.array([datetime.datetime.weekday(datetime.datetime.fromisoformat(ratings_given['timestamp'].iloc[i])) for i in range(ratings_given.shape[0])])\n",
    "ratings_given['day_numeric']=np.array([(datetime.datetime.fromisoformat(ratings_given['timestamp'].iloc[i])).day for i in range(ratings_given.shape[0])])\n",
    "ratings_given['month_numeric']=np.array([(datetime.datetime.fromisoformat(ratings_given['timestamp'].iloc[i])).month for i in range(ratings_given.shape[0])])\n",
    "ratings_given['year_numeric']=np.array([(datetime.datetime.fromisoformat(ratings_given['timestamp'].iloc[i])).year for i in range(ratings_given.shape[0])])\n"
   ]
  },
  {
   "cell_type": "markdown",
   "id": "581f75cc",
   "metadata": {},
   "source": [
    "These descriptive analysis are made to understand the patterns of the features created  "
   ]
  },
  {
   "cell_type": "code",
   "execution_count": 17,
   "id": "28498577",
   "metadata": {},
   "outputs": [
    {
     "data": {
      "image/png": "[encoded data removed]",
      "text/plain": [
       "<Figure size 432x288 with 1 Axes>"
      ]
     },
     "metadata": {
      "needs_background": "light"
     },
     "output_type": "display_data"
    }
   ],
   "source": [
    "plt.bar(ratings_given[['movieId','weekday_numeric']].groupby(['weekday_numeric']).count().index.values,height=np.ravel(ratings_given[['movieId','weekday_numeric']].groupby(['weekday_numeric']).count().values))\n",
    "plt.title('Weekdays Rating Reported Bar plot ')\n",
    "plt.show()"
   ]
  },
  {
   "cell_type": "code",
   "execution_count": 18,
   "id": "37de05d6",
   "metadata": {},
   "outputs": [
    {
     "data": {
      "image/png": "[encoded data removed]",
      "text/plain": [
       "<Figure size 432x288 with 1 Axes>"
      ]
     },
     "metadata": {
      "needs_background": "light"
     },
     "output_type": "display_data"
    }
   ],
   "source": [
    "plt.bar(ratings_given[['movieId','year_numeric']].groupby(['year_numeric']).count().index.values,height=np.ravel(ratings_given[['movieId','year_numeric']].groupby(['year_numeric']).count().values))\n",
    "plt.title('Rating Reported Year Bar plot ')\n",
    "plt.show()"
   ]
  },
  {
   "cell_type": "code",
   "execution_count": 19,
   "id": "e0b5a70e",
   "metadata": {},
   "outputs": [
    {
     "data": {
      "image/png": "[encoded data removed]",
      "text/plain": [
       "<Figure size 432x288 with 1 Axes>"
      ]
     },
     "metadata": {
      "needs_background": "light"
     },
     "output_type": "display_data"
    }
   ],
   "source": [
    "plt.bar(ratings_given[['movieId','month_numeric']].groupby(['month_numeric']).count().index.values,height=np.ravel(ratings_given[['movieId','month_numeric']].groupby(['month_numeric']).count().values))\n",
    "plt.title('Rating Reported Month Bar plot ')\n",
    "plt.show()"
   ]
  },
  {
   "cell_type": "code",
   "execution_count": 20,
   "id": "b087df3d",
   "metadata": {},
   "outputs": [
    {
     "data": {
      "image/png": "[encoded data removed]",
      "text/plain": [
       "<Figure size 432x288 with 1 Axes>"
      ]
     },
     "metadata": {
      "needs_background": "light"
     },
     "output_type": "display_data"
    }
   ],
   "source": [
    "plt.bar(ratings_given[['movieId','day_numeric']].groupby(['day_numeric']).count().index.values,height=np.ravel(ratings_given[['movieId','day_numeric']].groupby(['day_numeric']).count().values))\n",
    "plt.title('Rating Reported Day Bar plot ')\n",
    "plt.show()"
   ]
  },
  {
   "cell_type": "markdown",
   "id": "4fd39fbd",
   "metadata": {},
   "source": [
    "####  Rating uniqueness for user-movie pair"
   ]
  },
  {
   "cell_type": "code",
   "execution_count": 21,
   "id": "24f92a90",
   "metadata": {},
   "outputs": [],
   "source": [
    "useful_study=ratings_given[['movieId','userId','rating']].groupby(['movieId','userId']).agg( {'rating': [min , max] } )"
   ]
  },
  {
   "cell_type": "code",
   "execution_count": 22,
   "id": "64c86c3e",
   "metadata": {},
   "outputs": [
    {
     "data": {
      "text/plain": [
       "0.0"
      ]
     },
     "execution_count": 22,
     "metadata": {},
     "output_type": "execute_result"
    }
   ],
   "source": [
    "np.sum(useful_study['rating'][max]-useful_study['rating'][min])"
   ]
  },
  {
   "cell_type": "markdown",
   "id": "37fe9bb8",
   "metadata": {},
   "source": [
    "Indeed there are unique, in case that would not , It could be prepared the min value as the actual ones"
   ]
  },
  {
   "cell_type": "markdown",
   "id": "d20ab860",
   "metadata": {},
   "source": [
    "####  Rating validation"
   ]
  },
  {
   "cell_type": "code",
   "execution_count": 23,
   "id": "6f37ca5e",
   "metadata": {},
   "outputs": [
    {
     "data": {
      "text/plain": [
       "0"
      ]
     },
     "execution_count": 23,
     "metadata": {},
     "output_type": "execute_result"
    }
   ],
   "source": [
    "np.sum(ratings_given['rating'].isnull())"
   ]
  },
  {
   "cell_type": "code",
   "execution_count": 24,
   "id": "3e12ae9f",
   "metadata": {},
   "outputs": [
    {
     "data": {
      "text/plain": [
       "0"
      ]
     },
     "execution_count": 24,
     "metadata": {},
     "output_type": "execute_result"
    }
   ],
   "source": [
    "np.sum(ratings_given['rating'].isna())"
   ]
  },
  {
   "cell_type": "markdown",
   "id": "3d1b9400",
   "metadata": {},
   "source": [
    "### 1.3 Cleaning criteria"
   ]
  },
  {
   "cell_type": "markdown",
   "id": "ed952848",
   "metadata": {},
   "source": [
    "#### Undersampling  cleaning"
   ]
  },
  {
   "cell_type": "code",
   "execution_count": 25,
   "id": "0b9a5fa2",
   "metadata": {},
   "outputs": [
    {
     "name": "stdout",
     "output_type": "stream",
     "text": [
      "        movieId\n",
      "userId         \n",
      "56110         1\n",
      "76950         1\n",
      "34014         1\n",
      "34013         1\n",
      "34012         1\n",
      "...         ...\n",
      "131904      146\n",
      "121535      150\n",
      "74142       153\n",
      "118205      194\n",
      "8405        194\n",
      "\n",
      "[107079 rows x 1 columns]\n"
     ]
    }
   ],
   "source": [
    "revision_ratings=ratings_given[['movieId','userId']].groupby('userId').count()\n",
    "print(revision_ratings.sort_values('movieId'))"
   ]
  },
  {
   "cell_type": "markdown",
   "id": "2173179b",
   "metadata": {},
   "source": [
    "As I performed an undersampling over the 20 million ratings, there are some users that do not have enough ratings to be compared with others. People with just one movie rated cannot be valid enough to proceed with a good  referral movie. For bias evadeness , will be required those **selected to have already 3 movies rated in the train - test sample**."
   ]
  },
  {
   "cell_type": "code",
   "execution_count": 26,
   "id": "3f0dcc7d",
   "metadata": {},
   "outputs": [],
   "source": [
    "rev1=[ ratings_given[ratings_given['userId'].values == i ].index.values  for i in revision_ratings[revision_ratings['movieId']>3].index.values ]\n",
    "ratings_given1=ratings_given.filter(list(itertools.chain(*rev1)), axis=0) "
   ]
  },
  {
   "cell_type": "code",
   "execution_count": 27,
   "id": "095af9e7",
   "metadata": {
    "scrolled": true
   },
   "outputs": [
    {
     "data": {
      "text/html": [
       "<div>\n",
       "<style scoped>\n",
       "    .dataframe tbody tr th:only-of-type {\n",
       "        vertical-align: middle;\n",
       "    }\n",
       "\n",
       "    .dataframe tbody tr th {\n",
       "        vertical-align: top;\n",
       "    }\n",
       "\n",
       "    .dataframe thead th {\n",
       "        text-align: right;\n",
       "    }\n",
       "</style>\n",
       "<table border=\"1\" class=\"dataframe\">\n",
       "  <thead>\n",
       "    <tr style=\"text-align: right;\">\n",
       "      <th></th>\n",
       "      <th>userId</th>\n",
       "      <th>movieId</th>\n",
       "      <th>rating</th>\n",
       "      <th>timestamp</th>\n",
       "      <th>timestamp_numeric</th>\n",
       "      <th>weekday_numeric</th>\n",
       "      <th>day_numeric</th>\n",
       "      <th>month_numeric</th>\n",
       "      <th>year_numeric</th>\n",
       "    </tr>\n",
       "  </thead>\n",
       "  <tbody>\n",
       "    <tr>\n",
       "      <th>167</th>\n",
       "      <td>1</td>\n",
       "      <td>7757</td>\n",
       "      <td>4.0</td>\n",
       "      <td>2005-04-02 23:50:19</td>\n",
       "      <td>732038</td>\n",
       "      <td>5</td>\n",
       "      <td>2</td>\n",
       "      <td>4</td>\n",
       "      <td>2005</td>\n",
       "    </tr>\n",
       "    <tr>\n",
       "      <th>13</th>\n",
       "      <td>1</td>\n",
       "      <td>337</td>\n",
       "      <td>3.5</td>\n",
       "      <td>2004-09-10 03:08:29</td>\n",
       "      <td>731834</td>\n",
       "      <td>4</td>\n",
       "      <td>10</td>\n",
       "      <td>9</td>\n",
       "      <td>2004</td>\n",
       "    </tr>\n",
       "    <tr>\n",
       "      <th>111</th>\n",
       "      <td>1</td>\n",
       "      <td>3996</td>\n",
       "      <td>4.0</td>\n",
       "      <td>2004-09-10 03:08:47</td>\n",
       "      <td>731834</td>\n",
       "      <td>4</td>\n",
       "      <td>10</td>\n",
       "      <td>9</td>\n",
       "      <td>2004</td>\n",
       "    </tr>\n",
       "    <tr>\n",
       "      <th>20</th>\n",
       "      <td>1</td>\n",
       "      <td>924</td>\n",
       "      <td>3.5</td>\n",
       "      <td>2004-09-10 03:06:38</td>\n",
       "      <td>731834</td>\n",
       "      <td>4</td>\n",
       "      <td>10</td>\n",
       "      <td>9</td>\n",
       "      <td>2004</td>\n",
       "    </tr>\n",
       "    <tr>\n",
       "      <th>28</th>\n",
       "      <td>1</td>\n",
       "      <td>1136</td>\n",
       "      <td>3.5</td>\n",
       "      <td>2005-04-02 23:30:09</td>\n",
       "      <td>732038</td>\n",
       "      <td>5</td>\n",
       "      <td>2</td>\n",
       "      <td>4</td>\n",
       "      <td>2005</td>\n",
       "    </tr>\n",
       "    <tr>\n",
       "      <th>27</th>\n",
       "      <td>1</td>\n",
       "      <td>1097</td>\n",
       "      <td>4.0</td>\n",
       "      <td>2005-04-02 23:48:21</td>\n",
       "      <td>732038</td>\n",
       "      <td>5</td>\n",
       "      <td>2</td>\n",
       "      <td>4</td>\n",
       "      <td>2005</td>\n",
       "    </tr>\n",
       "    <tr>\n",
       "      <th>35</th>\n",
       "      <td>1</td>\n",
       "      <td>1214</td>\n",
       "      <td>4.0</td>\n",
       "      <td>2004-09-10 03:12:57</td>\n",
       "      <td>731834</td>\n",
       "      <td>4</td>\n",
       "      <td>10</td>\n",
       "      <td>9</td>\n",
       "      <td>2004</td>\n",
       "    </tr>\n",
       "    <tr>\n",
       "      <th>386</th>\n",
       "      <td>3</td>\n",
       "      <td>2615</td>\n",
       "      <td>4.0</td>\n",
       "      <td>1999-12-14 12:53:25</td>\n",
       "      <td>730102</td>\n",
       "      <td>1</td>\n",
       "      <td>14</td>\n",
       "      <td>12</td>\n",
       "      <td>1999</td>\n",
       "    </tr>\n",
       "    <tr>\n",
       "      <th>413</th>\n",
       "      <td>3</td>\n",
       "      <td>2968</td>\n",
       "      <td>5.0</td>\n",
       "      <td>1999-12-11 13:41:12</td>\n",
       "      <td>730099</td>\n",
       "      <td>5</td>\n",
       "      <td>11</td>\n",
       "      <td>12</td>\n",
       "      <td>1999</td>\n",
       "    </tr>\n",
       "    <tr>\n",
       "      <th>362</th>\n",
       "      <td>3</td>\n",
       "      <td>2236</td>\n",
       "      <td>4.0</td>\n",
       "      <td>1999-12-11 13:18:12</td>\n",
       "      <td>730099</td>\n",
       "      <td>5</td>\n",
       "      <td>11</td>\n",
       "      <td>12</td>\n",
       "      <td>1999</td>\n",
       "    </tr>\n",
       "  </tbody>\n",
       "</table>\n",
       "</div>"
      ],
      "text/plain": [
       "     userId  movieId  rating            timestamp  timestamp_numeric  \\\n",
       "167       1     7757     4.0  2005-04-02 23:50:19             732038   \n",
       "13        1      337     3.5  2004-09-10 03:08:29             731834   \n",
       "111       1     3996     4.0  2004-09-10 03:08:47             731834   \n",
       "20        1      924     3.5  2004-09-10 03:06:38             731834   \n",
       "28        1     1136     3.5  2005-04-02 23:30:09             732038   \n",
       "27        1     1097     4.0  2005-04-02 23:48:21             732038   \n",
       "35        1     1214     4.0  2004-09-10 03:12:57             731834   \n",
       "386       3     2615     4.0  1999-12-14 12:53:25             730102   \n",
       "413       3     2968     5.0  1999-12-11 13:41:12             730099   \n",
       "362       3     2236     4.0  1999-12-11 13:18:12             730099   \n",
       "\n",
       "     weekday_numeric  day_numeric  month_numeric  year_numeric  \n",
       "167                5            2              4          2005  \n",
       "13                 4           10              9          2004  \n",
       "111                4           10              9          2004  \n",
       "20                 4           10              9          2004  \n",
       "28                 5            2              4          2005  \n",
       "27                 5            2              4          2005  \n",
       "35                 4           10              9          2004  \n",
       "386                1           14             12          1999  \n",
       "413                5           11             12          1999  \n",
       "362                5           11             12          1999  "
      ]
     },
     "execution_count": 27,
     "metadata": {},
     "output_type": "execute_result"
    }
   ],
   "source": [
    "ratings_given1.head(10)"
   ]
  },
  {
   "cell_type": "code",
   "execution_count": 28,
   "id": "96a1d1d9",
   "metadata": {},
   "outputs": [
    {
     "data": {
      "text/plain": [
       "(385013, 9)"
      ]
     },
     "execution_count": 28,
     "metadata": {},
     "output_type": "execute_result"
    }
   ],
   "source": [
    "ratings_given1.shape"
   ]
  },
  {
   "cell_type": "markdown",
   "id": "6ce9e233",
   "metadata": {},
   "source": [
    "The reduction of the rating sample is unavoidable, to satisfy the minimum requirement imposed"
   ]
  },
  {
   "cell_type": "markdown",
   "id": "d2df7b9a",
   "metadata": {},
   "source": [
    "#### Tags selected"
   ]
  },
  {
   "cell_type": "code",
   "execution_count": 29,
   "id": "da87b569",
   "metadata": {},
   "outputs": [],
   "source": [
    "movie_tag_rel1=movie_tag_rel.sort_values(['movieId','relevance'],axis=0,ascending=[True,False])"
   ]
  },
  {
   "cell_type": "code",
   "execution_count": 30,
   "id": "ccf3716c",
   "metadata": {},
   "outputs": [
    {
     "data": {
      "text/html": [
       "<div>\n",
       "<style scoped>\n",
       "    .dataframe tbody tr th:only-of-type {\n",
       "        vertical-align: middle;\n",
       "    }\n",
       "\n",
       "    .dataframe tbody tr th {\n",
       "        vertical-align: top;\n",
       "    }\n",
       "\n",
       "    .dataframe thead th {\n",
       "        text-align: right;\n",
       "    }\n",
       "</style>\n",
       "<table border=\"1\" class=\"dataframe\">\n",
       "  <thead>\n",
       "    <tr style=\"text-align: right;\">\n",
       "      <th></th>\n",
       "      <th>movieId</th>\n",
       "      <th>tagId</th>\n",
       "      <th>relevance</th>\n",
       "    </tr>\n",
       "  </thead>\n",
       "  <tbody>\n",
       "    <tr>\n",
       "      <th>1035</th>\n",
       "      <td>1</td>\n",
       "      <td>1036</td>\n",
       "      <td>0.99925</td>\n",
       "    </tr>\n",
       "    <tr>\n",
       "      <th>243</th>\n",
       "      <td>1</td>\n",
       "      <td>244</td>\n",
       "      <td>0.99850</td>\n",
       "    </tr>\n",
       "    <tr>\n",
       "      <th>785</th>\n",
       "      <td>1</td>\n",
       "      <td>786</td>\n",
       "      <td>0.99600</td>\n",
       "    </tr>\n",
       "    <tr>\n",
       "      <th>588</th>\n",
       "      <td>1</td>\n",
       "      <td>589</td>\n",
       "      <td>0.99075</td>\n",
       "    </tr>\n",
       "    <tr>\n",
       "      <th>63</th>\n",
       "      <td>1</td>\n",
       "      <td>64</td>\n",
       "      <td>0.98575</td>\n",
       "    </tr>\n",
       "    <tr>\n",
       "      <th>587</th>\n",
       "      <td>1</td>\n",
       "      <td>588</td>\n",
       "      <td>0.97925</td>\n",
       "    </tr>\n",
       "    <tr>\n",
       "      <th>784</th>\n",
       "      <td>1</td>\n",
       "      <td>785</td>\n",
       "      <td>0.96675</td>\n",
       "    </tr>\n",
       "    <tr>\n",
       "      <th>203</th>\n",
       "      <td>1</td>\n",
       "      <td>204</td>\n",
       "      <td>0.96425</td>\n",
       "    </tr>\n",
       "    <tr>\n",
       "      <th>185</th>\n",
       "      <td>1</td>\n",
       "      <td>186</td>\n",
       "      <td>0.95650</td>\n",
       "    </tr>\n",
       "    <tr>\n",
       "      <th>535</th>\n",
       "      <td>1</td>\n",
       "      <td>536</td>\n",
       "      <td>0.94200</td>\n",
       "    </tr>\n",
       "  </tbody>\n",
       "</table>\n",
       "</div>"
      ],
      "text/plain": [
       "      movieId  tagId  relevance\n",
       "1035        1   1036    0.99925\n",
       "243         1    244    0.99850\n",
       "785         1    786    0.99600\n",
       "588         1    589    0.99075\n",
       "63          1     64    0.98575\n",
       "587         1    588    0.97925\n",
       "784         1    785    0.96675\n",
       "203         1    204    0.96425\n",
       "185         1    186    0.95650\n",
       "535         1    536    0.94200"
      ]
     },
     "execution_count": 30,
     "metadata": {},
     "output_type": "execute_result"
    }
   ],
   "source": [
    "movie_tag_rel1.head(10)"
   ]
  },
  {
   "cell_type": "markdown",
   "id": "a211306a",
   "metadata": {},
   "source": [
    "There should be imposed another cleaning criteria in the movie tags , as they were created by users and not all the movies have the same quantity of viewers. In this case, **there will be used the top 5 most relevant tags to categorise the movie in the model** "
   ]
  },
  {
   "cell_type": "code",
   "execution_count": 31,
   "id": "8e2e7635",
   "metadata": {},
   "outputs": [],
   "source": [
    "movie_tag_rel1_0=([ movie_tag_rel1[movie_tag_rel1['movieId']==i].index.values[0:5]    for i in movie_tag_rel1['movieId'].unique()     ])"
   ]
  },
  {
   "cell_type": "code",
   "execution_count": 32,
   "id": "99c9e2cd",
   "metadata": {},
   "outputs": [],
   "source": [
    "movie_tag_rel1_1=movie_tag_rel1.filter(list(itertools.chain(*movie_tag_rel1_0)), axis=0) "
   ]
  },
  {
   "cell_type": "markdown",
   "id": "cf625156",
   "metadata": {},
   "source": [
    "As the neural network complexity increases based on quantity of nodes and layers , there will be imposed another filter: **Just take the most relevant tags in the dataset , in this case those from  above 400 uses** "
   ]
  },
  {
   "cell_type": "code",
   "execution_count": 33,
   "id": "3df5a6b4",
   "metadata": {},
   "outputs": [],
   "source": [
    "filterto_use1=movie_tag_rel1_1[['movieId','tagId']].groupby(['tagId']).count().sort_values('movieId',ascending=False)\n"
   ]
  },
  {
   "cell_type": "code",
   "execution_count": 34,
   "id": "795370a6",
   "metadata": {},
   "outputs": [
    {
     "name": "stdout",
     "output_type": "stream",
     "text": [
      "movieId    7\n",
      "dtype: int64\n"
     ]
    },
    {
     "data": {
      "text/html": [
       "<div>\n",
       "<style scoped>\n",
       "    .dataframe tbody tr th:only-of-type {\n",
       "        vertical-align: middle;\n",
       "    }\n",
       "\n",
       "    .dataframe tbody tr th {\n",
       "        vertical-align: top;\n",
       "    }\n",
       "\n",
       "    .dataframe thead th {\n",
       "        text-align: right;\n",
       "    }\n",
       "</style>\n",
       "<table border=\"1\" class=\"dataframe\">\n",
       "  <thead>\n",
       "    <tr style=\"text-align: right;\">\n",
       "      <th></th>\n",
       "      <th>movieId</th>\n",
       "    </tr>\n",
       "    <tr>\n",
       "      <th>tagId</th>\n",
       "      <th></th>\n",
       "    </tr>\n",
       "  </thead>\n",
       "  <tbody>\n",
       "    <tr>\n",
       "      <th>742</th>\n",
       "      <td>1618.0</td>\n",
       "    </tr>\n",
       "    <tr>\n",
       "      <th>230</th>\n",
       "      <td>938.0</td>\n",
       "    </tr>\n",
       "    <tr>\n",
       "      <th>270</th>\n",
       "      <td>643.0</td>\n",
       "    </tr>\n",
       "    <tr>\n",
       "      <th>522</th>\n",
       "      <td>547.0</td>\n",
       "    </tr>\n",
       "    <tr>\n",
       "      <th>19</th>\n",
       "      <td>522.0</td>\n",
       "    </tr>\n",
       "    <tr>\n",
       "      <th>846</th>\n",
       "      <td>477.0</td>\n",
       "    </tr>\n",
       "    <tr>\n",
       "      <th>107</th>\n",
       "      <td>471.0</td>\n",
       "    </tr>\n",
       "    <tr>\n",
       "      <th>22</th>\n",
       "      <td>NaN</td>\n",
       "    </tr>\n",
       "    <tr>\n",
       "      <th>646</th>\n",
       "      <td>NaN</td>\n",
       "    </tr>\n",
       "    <tr>\n",
       "      <th>864</th>\n",
       "      <td>NaN</td>\n",
       "    </tr>\n",
       "  </tbody>\n",
       "</table>\n",
       "</div>"
      ],
      "text/plain": [
       "       movieId\n",
       "tagId         \n",
       "742     1618.0\n",
       "230      938.0\n",
       "270      643.0\n",
       "522      547.0\n",
       "19       522.0\n",
       "846      477.0\n",
       "107      471.0\n",
       "22         NaN\n",
       "646        NaN\n",
       "864        NaN"
      ]
     },
     "execution_count": 34,
     "metadata": {},
     "output_type": "execute_result"
    }
   ],
   "source": [
    "\n",
    "print((filterto_use1[filterto_use1 > 400]).count())\n",
    "(filterto_use1[filterto_use1 > 400]).head(10)"
   ]
  },
  {
   "cell_type": "markdown",
   "id": "83059d37",
   "metadata": {},
   "source": [
    "The final tags to use in the modelling will be:"
   ]
  },
  {
   "cell_type": "code",
   "execution_count": 35,
   "id": "3377d044",
   "metadata": {},
   "outputs": [
    {
     "data": {
      "text/html": [
       "<div>\n",
       "<style scoped>\n",
       "    .dataframe tbody tr th:only-of-type {\n",
       "        vertical-align: middle;\n",
       "    }\n",
       "\n",
       "    .dataframe tbody tr th {\n",
       "        vertical-align: top;\n",
       "    }\n",
       "\n",
       "    .dataframe thead th {\n",
       "        text-align: right;\n",
       "    }\n",
       "</style>\n",
       "<table border=\"1\" class=\"dataframe\">\n",
       "  <thead>\n",
       "    <tr style=\"text-align: right;\">\n",
       "      <th></th>\n",
       "      <th>tagId</th>\n",
       "      <th>movieId</th>\n",
       "      <th>tag</th>\n",
       "    </tr>\n",
       "  </thead>\n",
       "  <tbody>\n",
       "    <tr>\n",
       "      <th>0</th>\n",
       "      <td>742</td>\n",
       "      <td>1618</td>\n",
       "      <td>original</td>\n",
       "    </tr>\n",
       "    <tr>\n",
       "      <th>1</th>\n",
       "      <td>230</td>\n",
       "      <td>938</td>\n",
       "      <td>comedy</td>\n",
       "    </tr>\n",
       "    <tr>\n",
       "      <th>2</th>\n",
       "      <td>270</td>\n",
       "      <td>643</td>\n",
       "      <td>criterion</td>\n",
       "    </tr>\n",
       "    <tr>\n",
       "      <th>3</th>\n",
       "      <td>522</td>\n",
       "      <td>547</td>\n",
       "      <td>horror</td>\n",
       "    </tr>\n",
       "    <tr>\n",
       "      <th>4</th>\n",
       "      <td>19</td>\n",
       "      <td>522</td>\n",
       "      <td>action</td>\n",
       "    </tr>\n",
       "    <tr>\n",
       "      <th>5</th>\n",
       "      <td>846</td>\n",
       "      <td>477</td>\n",
       "      <td>relationships</td>\n",
       "    </tr>\n",
       "    <tr>\n",
       "      <th>6</th>\n",
       "      <td>107</td>\n",
       "      <td>471</td>\n",
       "      <td>based on a book</td>\n",
       "    </tr>\n",
       "  </tbody>\n",
       "</table>\n",
       "</div>"
      ],
      "text/plain": [
       "   tagId  movieId              tag\n",
       "0    742     1618         original\n",
       "1    230      938           comedy\n",
       "2    270      643        criterion\n",
       "3    522      547           horror\n",
       "4     19      522           action\n",
       "5    846      477    relationships\n",
       "6    107      471  based on a book"
      ]
     },
     "execution_count": 35,
     "metadata": {},
     "output_type": "execute_result"
    }
   ],
   "source": [
    "filterto_use1.iloc[range(7),:].merge(tag_desc,on='tagId',how='inner')"
   ]
  },
  {
   "cell_type": "code",
   "execution_count": 36,
   "id": "00e804b0",
   "metadata": {},
   "outputs": [],
   "source": [
    "# filterto_use1['movieId'].describe()\n",
    "# important_columns=filterto_use1[filterto_use1['movieId']>=25].index.values"
   ]
  },
  {
   "cell_type": "code",
   "execution_count": 37,
   "id": "30e74bc9",
   "metadata": {},
   "outputs": [],
   "source": [
    "\n",
    "movie_tag_rel1_2=movie_tag_rel1_1.pivot(index='movieId',columns='tagId',values='relevance')"
   ]
  },
  {
   "cell_type": "code",
   "execution_count": 38,
   "id": "5f01ab1f",
   "metadata": {},
   "outputs": [
    {
     "data": {
      "text/plain": [
       "tagId\n",
       "64      0.98575\n",
       "244     0.99850\n",
       "589     0.99075\n",
       "786     0.99600\n",
       "1036    0.99925\n",
       "Name: 1, dtype: float64"
      ]
     },
     "execution_count": 38,
     "metadata": {},
     "output_type": "execute_result"
    }
   ],
   "source": [
    "movie_tag_rel1_2.iloc[0,:][movie_tag_rel1_2.iloc[0,:].isna()==False]"
   ]
  },
  {
   "cell_type": "code",
   "execution_count": 39,
   "id": "f29a3189",
   "metadata": {},
   "outputs": [
    {
     "data": {
      "text/plain": [
       "(10381, 1056)"
      ]
     },
     "execution_count": 39,
     "metadata": {},
     "output_type": "execute_result"
    }
   ],
   "source": [
    "movie_tag_rel1_2.shape"
   ]
  },
  {
   "cell_type": "code",
   "execution_count": 40,
   "id": "75faf76a",
   "metadata": {},
   "outputs": [],
   "source": [
    " movie_tag_rel1_2['movieId']=movie_tag_rel1_2.index.values\n"
   ]
  },
  {
   "cell_type": "code",
   "execution_count": 41,
   "id": "1b931450",
   "metadata": {},
   "outputs": [],
   "source": [
    "movie_tag_rel1_2.set_axis([np.arange((movie_tag_rel1_2.shape[0]))],axis=0)\n",
    "movie_tag_rel1_2.rename_axis(\"rownames\",axis=0,inplace=True)\n",
    "movie_tag_rel1_2.fillna(0,inplace=True)\n",
    "\n",
    "movie_tag_rel1_3=movie_tag_rel1_2.iloc[:,[ i for i in range(movie_tag_rel1_2.shape[1]-1) if np.sum(movie_tag_rel1_2.iloc[:,i]>0) > 25 ]]\n",
    "movie_tag_rel1_3=pd.concat([movie_tag_rel1_3,movie_tag_rel1_2.iloc[:,movie_tag_rel1_2.shape[1]-1]],axis=1)\n",
    "movie_tag_rel1_3.set_axis(['_'.join(['X',str(movie_tag_rel1_3.columns[i])]) for i in np.arange(0,movie_tag_rel1_3.shape[1])],axis=1,inplace=True)"
   ]
  },
  {
   "cell_type": "markdown",
   "id": "21115e6c",
   "metadata": {},
   "source": [
    "#### Putting everything in a data frame "
   ]
  },
  {
   "cell_type": "code",
   "execution_count": 42,
   "id": "6ccf7b73",
   "metadata": {},
   "outputs": [],
   "source": [
    "ratings_given1_2=ratings_given1.merge(movie_tag_rel1_3,left_on='movieId',right_on='X_movieId' ,how='inner')\n",
    "ratings_given=ratings_given1_2"
   ]
  },
  {
   "cell_type": "code",
   "execution_count": 43,
   "id": "a0634daa",
   "metadata": {},
   "outputs": [
    {
     "data": {
      "text/html": [
       "<div>\n",
       "<style scoped>\n",
       "    .dataframe tbody tr th:only-of-type {\n",
       "        vertical-align: middle;\n",
       "    }\n",
       "\n",
       "    .dataframe tbody tr th {\n",
       "        vertical-align: top;\n",
       "    }\n",
       "\n",
       "    .dataframe thead th {\n",
       "        text-align: right;\n",
       "    }\n",
       "</style>\n",
       "<table border=\"1\" class=\"dataframe\">\n",
       "  <thead>\n",
       "    <tr style=\"text-align: right;\">\n",
       "      <th></th>\n",
       "      <th>userId</th>\n",
       "      <th>movieId</th>\n",
       "      <th>rating</th>\n",
       "      <th>timestamp</th>\n",
       "      <th>timestamp_numeric</th>\n",
       "      <th>weekday_numeric</th>\n",
       "      <th>day_numeric</th>\n",
       "      <th>month_numeric</th>\n",
       "      <th>year_numeric</th>\n",
       "      <th>X_1</th>\n",
       "      <th>...</th>\n",
       "      <th>X_1118</th>\n",
       "      <th>X_1119</th>\n",
       "      <th>X_1121</th>\n",
       "      <th>X_1122</th>\n",
       "      <th>X_1123</th>\n",
       "      <th>X_1125</th>\n",
       "      <th>X_1126</th>\n",
       "      <th>X_1127</th>\n",
       "      <th>X_1128</th>\n",
       "      <th>X_movieId</th>\n",
       "    </tr>\n",
       "  </thead>\n",
       "  <tbody>\n",
       "    <tr>\n",
       "      <th>0</th>\n",
       "      <td>1</td>\n",
       "      <td>7757</td>\n",
       "      <td>4.0</td>\n",
       "      <td>2005-04-02 23:50:19</td>\n",
       "      <td>732038</td>\n",
       "      <td>5</td>\n",
       "      <td>2</td>\n",
       "      <td>4</td>\n",
       "      <td>2005</td>\n",
       "      <td>0.0</td>\n",
       "      <td>...</td>\n",
       "      <td>0.0</td>\n",
       "      <td>0.0</td>\n",
       "      <td>0.0</td>\n",
       "      <td>0.0</td>\n",
       "      <td>0.0</td>\n",
       "      <td>0.0</td>\n",
       "      <td>0.0</td>\n",
       "      <td>0.0</td>\n",
       "      <td>0.0</td>\n",
       "      <td>7757</td>\n",
       "    </tr>\n",
       "    <tr>\n",
       "      <th>1</th>\n",
       "      <td>5352</td>\n",
       "      <td>7757</td>\n",
       "      <td>2.5</td>\n",
       "      <td>2005-05-30 22:32:54</td>\n",
       "      <td>732096</td>\n",
       "      <td>0</td>\n",
       "      <td>30</td>\n",
       "      <td>5</td>\n",
       "      <td>2005</td>\n",
       "      <td>0.0</td>\n",
       "      <td>...</td>\n",
       "      <td>0.0</td>\n",
       "      <td>0.0</td>\n",
       "      <td>0.0</td>\n",
       "      <td>0.0</td>\n",
       "      <td>0.0</td>\n",
       "      <td>0.0</td>\n",
       "      <td>0.0</td>\n",
       "      <td>0.0</td>\n",
       "      <td>0.0</td>\n",
       "      <td>7757</td>\n",
       "    </tr>\n",
       "    <tr>\n",
       "      <th>2</th>\n",
       "      <td>16938</td>\n",
       "      <td>7757</td>\n",
       "      <td>3.5</td>\n",
       "      <td>2007-06-12 07:27:45</td>\n",
       "      <td>732839</td>\n",
       "      <td>1</td>\n",
       "      <td>12</td>\n",
       "      <td>6</td>\n",
       "      <td>2007</td>\n",
       "      <td>0.0</td>\n",
       "      <td>...</td>\n",
       "      <td>0.0</td>\n",
       "      <td>0.0</td>\n",
       "      <td>0.0</td>\n",
       "      <td>0.0</td>\n",
       "      <td>0.0</td>\n",
       "      <td>0.0</td>\n",
       "      <td>0.0</td>\n",
       "      <td>0.0</td>\n",
       "      <td>0.0</td>\n",
       "      <td>7757</td>\n",
       "    </tr>\n",
       "    <tr>\n",
       "      <th>3</th>\n",
       "      <td>21730</td>\n",
       "      <td>7757</td>\n",
       "      <td>3.0</td>\n",
       "      <td>2005-07-09 01:46:22</td>\n",
       "      <td>732136</td>\n",
       "      <td>5</td>\n",
       "      <td>9</td>\n",
       "      <td>7</td>\n",
       "      <td>2005</td>\n",
       "      <td>0.0</td>\n",
       "      <td>...</td>\n",
       "      <td>0.0</td>\n",
       "      <td>0.0</td>\n",
       "      <td>0.0</td>\n",
       "      <td>0.0</td>\n",
       "      <td>0.0</td>\n",
       "      <td>0.0</td>\n",
       "      <td>0.0</td>\n",
       "      <td>0.0</td>\n",
       "      <td>0.0</td>\n",
       "      <td>7757</td>\n",
       "    </tr>\n",
       "    <tr>\n",
       "      <th>4</th>\n",
       "      <td>30967</td>\n",
       "      <td>7757</td>\n",
       "      <td>3.5</td>\n",
       "      <td>2005-03-22 21:40:50</td>\n",
       "      <td>732027</td>\n",
       "      <td>1</td>\n",
       "      <td>22</td>\n",
       "      <td>3</td>\n",
       "      <td>2005</td>\n",
       "      <td>0.0</td>\n",
       "      <td>...</td>\n",
       "      <td>0.0</td>\n",
       "      <td>0.0</td>\n",
       "      <td>0.0</td>\n",
       "      <td>0.0</td>\n",
       "      <td>0.0</td>\n",
       "      <td>0.0</td>\n",
       "      <td>0.0</td>\n",
       "      <td>0.0</td>\n",
       "      <td>0.0</td>\n",
       "      <td>7757</td>\n",
       "    </tr>\n",
       "  </tbody>\n",
       "</table>\n",
       "<p>5 rows × 540 columns</p>\n",
       "</div>"
      ],
      "text/plain": [
       "   userId  movieId  rating            timestamp  timestamp_numeric  \\\n",
       "0       1     7757     4.0  2005-04-02 23:50:19             732038   \n",
       "1    5352     7757     2.5  2005-05-30 22:32:54             732096   \n",
       "2   16938     7757     3.5  2007-06-12 07:27:45             732839   \n",
       "3   21730     7757     3.0  2005-07-09 01:46:22             732136   \n",
       "4   30967     7757     3.5  2005-03-22 21:40:50             732027   \n",
       "\n",
       "   weekday_numeric  day_numeric  month_numeric  year_numeric  X_1  ...  \\\n",
       "0                5            2              4          2005  0.0  ...   \n",
       "1                0           30              5          2005  0.0  ...   \n",
       "2                1           12              6          2007  0.0  ...   \n",
       "3                5            9              7          2005  0.0  ...   \n",
       "4                1           22              3          2005  0.0  ...   \n",
       "\n",
       "   X_1118  X_1119  X_1121  X_1122  X_1123  X_1125  X_1126  X_1127  X_1128  \\\n",
       "0     0.0     0.0     0.0     0.0     0.0     0.0     0.0     0.0     0.0   \n",
       "1     0.0     0.0     0.0     0.0     0.0     0.0     0.0     0.0     0.0   \n",
       "2     0.0     0.0     0.0     0.0     0.0     0.0     0.0     0.0     0.0   \n",
       "3     0.0     0.0     0.0     0.0     0.0     0.0     0.0     0.0     0.0   \n",
       "4     0.0     0.0     0.0     0.0     0.0     0.0     0.0     0.0     0.0   \n",
       "\n",
       "   X_movieId  \n",
       "0       7757  \n",
       "1       7757  \n",
       "2       7757  \n",
       "3       7757  \n",
       "4       7757  \n",
       "\n",
       "[5 rows x 540 columns]"
      ]
     },
     "execution_count": 43,
     "metadata": {},
     "output_type": "execute_result"
    }
   ],
   "source": [
    "ratings_given1_2.head()"
   ]
  },
  {
   "cell_type": "code",
   "execution_count": 44,
   "id": "92a9ff47",
   "metadata": {},
   "outputs": [
    {
     "data": {
      "text/plain": [
       "3.975"
      ]
     },
     "execution_count": 44,
     "metadata": {},
     "output_type": "execute_result"
    }
   ],
   "source": [
    "np.min(np.array([movie_tag_rel1_3.transpose().iloc[:,i].sum() for i in np.arange(0,movie_tag_rel1_3.transpose().shape[1]-1)]))"
   ]
  },
  {
   "cell_type": "markdown",
   "id": "2bfedfeb",
   "metadata": {},
   "source": [
    "#### Finally lets create the response variable (0-1) from the 1-5 ratings"
   ]
  },
  {
   "cell_type": "code",
   "execution_count": 45,
   "id": "04c3f143",
   "metadata": {},
   "outputs": [
    {
     "data": {
      "text/plain": [
       "183408"
      ]
     },
     "execution_count": 45,
     "metadata": {},
     "output_type": "execute_result"
    }
   ],
   "source": [
    "\n",
    "ratings_given['Positive_ratings']=ratings_given['rating'].apply(lambda x: 1 if x>= 4 else 0)\n",
    "ratings_given['Positive_ratings'].sum()"
   ]
  },
  {
   "cell_type": "code",
   "execution_count": null,
   "id": "63fa0bf2",
   "metadata": {},
   "outputs": [],
   "source": []
  },
  {
   "cell_type": "code",
   "execution_count": 46,
   "id": "359ceb7b",
   "metadata": {},
   "outputs": [
    {
     "data": {
      "text/plain": [
       "0                          Toy Story (1995)\n",
       "1                            Jumanji (1995)\n",
       "2                   Grumpier Old Men (1995)\n",
       "3                  Waiting to Exhale (1995)\n",
       "4        Father of the Bride Part II (1995)\n",
       "                        ...                \n",
       "27273          Kein Bund für's Leben (2007)\n",
       "27274         Feuer, Eis & Dosenbier (2002)\n",
       "27275                    The Pirates (2014)\n",
       "27276                   Rentun Ruusu (2001)\n",
       "27277                      Innocence (2014)\n",
       "Name: title, Length: 27278, dtype: object"
      ]
     },
     "execution_count": 46,
     "metadata": {},
     "output_type": "execute_result"
    }
   ],
   "source": [
    "Movie_info['title']"
   ]
  },
  {
   "cell_type": "code",
   "execution_count": 47,
   "id": "f1322f3b",
   "metadata": {},
   "outputs": [
    {
     "data": {
      "text/html": [
       "<div>\n",
       "<style scoped>\n",
       "    .dataframe tbody tr th:only-of-type {\n",
       "        vertical-align: middle;\n",
       "    }\n",
       "\n",
       "    .dataframe tbody tr th {\n",
       "        vertical-align: top;\n",
       "    }\n",
       "\n",
       "    .dataframe thead th {\n",
       "        text-align: right;\n",
       "    }\n",
       "</style>\n",
       "<table border=\"1\" class=\"dataframe\">\n",
       "  <thead>\n",
       "    <tr style=\"text-align: right;\">\n",
       "      <th></th>\n",
       "      <th>movieId</th>\n",
       "      <th>title</th>\n",
       "      <th>genres</th>\n",
       "      <th>userId</th>\n",
       "      <th>rating</th>\n",
       "      <th>timestamp</th>\n",
       "      <th>timestamp_numeric</th>\n",
       "      <th>weekday_numeric</th>\n",
       "      <th>day_numeric</th>\n",
       "      <th>month_numeric</th>\n",
       "      <th>...</th>\n",
       "      <th>X_1119</th>\n",
       "      <th>X_1121</th>\n",
       "      <th>X_1122</th>\n",
       "      <th>X_1123</th>\n",
       "      <th>X_1125</th>\n",
       "      <th>X_1126</th>\n",
       "      <th>X_1127</th>\n",
       "      <th>X_1128</th>\n",
       "      <th>X_movieId</th>\n",
       "      <th>Positive_ratings</th>\n",
       "    </tr>\n",
       "  </thead>\n",
       "  <tbody>\n",
       "    <tr>\n",
       "      <th>0</th>\n",
       "      <td>1</td>\n",
       "      <td>Toy Story (1995)</td>\n",
       "      <td>Adventure|Animation|Children|Comedy|Fantasy</td>\n",
       "      <td>16</td>\n",
       "      <td>3.0</td>\n",
       "      <td>2001-05-27 13:22:52</td>\n",
       "      <td>730632</td>\n",
       "      <td>6</td>\n",
       "      <td>27</td>\n",
       "      <td>5</td>\n",
       "      <td>...</td>\n",
       "      <td>0.0</td>\n",
       "      <td>0.0</td>\n",
       "      <td>0.0</td>\n",
       "      <td>0.0</td>\n",
       "      <td>0.0</td>\n",
       "      <td>0.0</td>\n",
       "      <td>0.0</td>\n",
       "      <td>0.0</td>\n",
       "      <td>1</td>\n",
       "      <td>0</td>\n",
       "    </tr>\n",
       "    <tr>\n",
       "      <th>1</th>\n",
       "      <td>1</td>\n",
       "      <td>Toy Story (1995)</td>\n",
       "      <td>Adventure|Animation|Children|Comedy|Fantasy</td>\n",
       "      <td>489</td>\n",
       "      <td>5.0</td>\n",
       "      <td>1999-03-07 14:15:46</td>\n",
       "      <td>729820</td>\n",
       "      <td>6</td>\n",
       "      <td>7</td>\n",
       "      <td>3</td>\n",
       "      <td>...</td>\n",
       "      <td>0.0</td>\n",
       "      <td>0.0</td>\n",
       "      <td>0.0</td>\n",
       "      <td>0.0</td>\n",
       "      <td>0.0</td>\n",
       "      <td>0.0</td>\n",
       "      <td>0.0</td>\n",
       "      <td>0.0</td>\n",
       "      <td>1</td>\n",
       "      <td>1</td>\n",
       "    </tr>\n",
       "    <tr>\n",
       "      <th>2</th>\n",
       "      <td>1</td>\n",
       "      <td>Toy Story (1995)</td>\n",
       "      <td>Adventure|Animation|Children|Comedy|Fantasy</td>\n",
       "      <td>588</td>\n",
       "      <td>4.0</td>\n",
       "      <td>2006-03-29 17:45:33</td>\n",
       "      <td>732399</td>\n",
       "      <td>2</td>\n",
       "      <td>29</td>\n",
       "      <td>3</td>\n",
       "      <td>...</td>\n",
       "      <td>0.0</td>\n",
       "      <td>0.0</td>\n",
       "      <td>0.0</td>\n",
       "      <td>0.0</td>\n",
       "      <td>0.0</td>\n",
       "      <td>0.0</td>\n",
       "      <td>0.0</td>\n",
       "      <td>0.0</td>\n",
       "      <td>1</td>\n",
       "      <td>1</td>\n",
       "    </tr>\n",
       "    <tr>\n",
       "      <th>3</th>\n",
       "      <td>1</td>\n",
       "      <td>Toy Story (1995)</td>\n",
       "      <td>Adventure|Animation|Children|Comedy|Fantasy</td>\n",
       "      <td>603</td>\n",
       "      <td>4.0</td>\n",
       "      <td>1997-02-23 10:55:37</td>\n",
       "      <td>729078</td>\n",
       "      <td>6</td>\n",
       "      <td>23</td>\n",
       "      <td>2</td>\n",
       "      <td>...</td>\n",
       "      <td>0.0</td>\n",
       "      <td>0.0</td>\n",
       "      <td>0.0</td>\n",
       "      <td>0.0</td>\n",
       "      <td>0.0</td>\n",
       "      <td>0.0</td>\n",
       "      <td>0.0</td>\n",
       "      <td>0.0</td>\n",
       "      <td>1</td>\n",
       "      <td>1</td>\n",
       "    </tr>\n",
       "    <tr>\n",
       "      <th>4</th>\n",
       "      <td>1</td>\n",
       "      <td>Toy Story (1995)</td>\n",
       "      <td>Adventure|Animation|Children|Comedy|Fantasy</td>\n",
       "      <td>631</td>\n",
       "      <td>4.0</td>\n",
       "      <td>2013-01-13 18:11:24</td>\n",
       "      <td>734881</td>\n",
       "      <td>6</td>\n",
       "      <td>13</td>\n",
       "      <td>1</td>\n",
       "      <td>...</td>\n",
       "      <td>0.0</td>\n",
       "      <td>0.0</td>\n",
       "      <td>0.0</td>\n",
       "      <td>0.0</td>\n",
       "      <td>0.0</td>\n",
       "      <td>0.0</td>\n",
       "      <td>0.0</td>\n",
       "      <td>0.0</td>\n",
       "      <td>1</td>\n",
       "      <td>1</td>\n",
       "    </tr>\n",
       "  </tbody>\n",
       "</table>\n",
       "<p>5 rows × 543 columns</p>\n",
       "</div>"
      ],
      "text/plain": [
       "   movieId             title                                       genres  \\\n",
       "0        1  Toy Story (1995)  Adventure|Animation|Children|Comedy|Fantasy   \n",
       "1        1  Toy Story (1995)  Adventure|Animation|Children|Comedy|Fantasy   \n",
       "2        1  Toy Story (1995)  Adventure|Animation|Children|Comedy|Fantasy   \n",
       "3        1  Toy Story (1995)  Adventure|Animation|Children|Comedy|Fantasy   \n",
       "4        1  Toy Story (1995)  Adventure|Animation|Children|Comedy|Fantasy   \n",
       "\n",
       "   userId  rating            timestamp  timestamp_numeric  weekday_numeric  \\\n",
       "0      16     3.0  2001-05-27 13:22:52             730632                6   \n",
       "1     489     5.0  1999-03-07 14:15:46             729820                6   \n",
       "2     588     4.0  2006-03-29 17:45:33             732399                2   \n",
       "3     603     4.0  1997-02-23 10:55:37             729078                6   \n",
       "4     631     4.0  2013-01-13 18:11:24             734881                6   \n",
       "\n",
       "   day_numeric  month_numeric  ...  X_1119  X_1121  X_1122  X_1123  X_1125  \\\n",
       "0           27              5  ...     0.0     0.0     0.0     0.0     0.0   \n",
       "1            7              3  ...     0.0     0.0     0.0     0.0     0.0   \n",
       "2           29              3  ...     0.0     0.0     0.0     0.0     0.0   \n",
       "3           23              2  ...     0.0     0.0     0.0     0.0     0.0   \n",
       "4           13              1  ...     0.0     0.0     0.0     0.0     0.0   \n",
       "\n",
       "   X_1126  X_1127  X_1128  X_movieId  Positive_ratings  \n",
       "0     0.0     0.0     0.0          1                 0  \n",
       "1     0.0     0.0     0.0          1                 1  \n",
       "2     0.0     0.0     0.0          1                 1  \n",
       "3     0.0     0.0     0.0          1                 1  \n",
       "4     0.0     0.0     0.0          1                 1  \n",
       "\n",
       "[5 rows x 543 columns]"
      ]
     },
     "execution_count": 47,
     "metadata": {},
     "output_type": "execute_result"
    }
   ],
   "source": [
    "Movie_ratings_given=Movie_info.merge(ratings_given,on=\"movieId\" ,how=\"inner\")\n",
    "Movie_ratings_given.head(5)"
   ]
  },
  {
   "cell_type": "code",
   "execution_count": 48,
   "id": "0374ab3d",
   "metadata": {},
   "outputs": [
    {
     "data": {
      "text/plain": [
       "(380490, 543)"
      ]
     },
     "execution_count": 48,
     "metadata": {},
     "output_type": "execute_result"
    }
   ],
   "source": [
    "Movie_ratings_given.shape"
   ]
  },
  {
   "cell_type": "code",
   "execution_count": 49,
   "id": "fd0920c7",
   "metadata": {},
   "outputs": [],
   "source": [
    "release_date=[]\n",
    "for i in range(len(Movie_ratings_given['title'])):\n",
    "    if len(Movie_ratings_given['title'][i].split(\"(\"))>1 :\n",
    "        release_date.append(int(Movie_ratings_given['title'][i].split(\"(\")[len(Movie_ratings_given['title'][i].split(\"(\") )-1].split(\")\")[0]))\n",
    "    else:\n",
    "        release_date.append(None)\n",
    "        \n",
    "    \n",
    "    \n",
    "Movie_ratings_given['release_year']=np.array(release_date)\n",
    "#(np.array([Movie_ratings_given['title'][i].split(\"(\")[1].split(\")\")[0] for i in range(len(Movie_ratings_given['title'])) if len(Movie_ratings_given['title'][i].split(\"(\"))>1  ]))"
   ]
  },
  {
   "cell_type": "code",
   "execution_count": 50,
   "id": "9e15b0a7",
   "metadata": {},
   "outputs": [
    {
     "data": {
      "text/plain": [
       "Index(['movieId', 'title', 'genres', 'userId', 'rating', 'timestamp',\n",
       "       'timestamp_numeric', 'weekday_numeric', 'day_numeric', 'month_numeric',\n",
       "       ...\n",
       "       'X_1121', 'X_1122', 'X_1123', 'X_1125', 'X_1126', 'X_1127', 'X_1128',\n",
       "       'X_movieId', 'Positive_ratings', 'release_year'],\n",
       "      dtype='object', length=544)"
      ]
     },
     "execution_count": 50,
     "metadata": {},
     "output_type": "execute_result"
    }
   ],
   "source": [
    "Movie_ratings_given.columns"
   ]
  },
  {
   "cell_type": "code",
   "execution_count": 51,
   "id": "115b930c",
   "metadata": {},
   "outputs": [
    {
     "data": {
      "text/html": [
       "<div>\n",
       "<style scoped>\n",
       "    .dataframe tbody tr th:only-of-type {\n",
       "        vertical-align: middle;\n",
       "    }\n",
       "\n",
       "    .dataframe tbody tr th {\n",
       "        vertical-align: top;\n",
       "    }\n",
       "\n",
       "    .dataframe thead th {\n",
       "        text-align: right;\n",
       "    }\n",
       "</style>\n",
       "<table border=\"1\" class=\"dataframe\">\n",
       "  <thead>\n",
       "    <tr style=\"text-align: right;\">\n",
       "      <th></th>\n",
       "      <th>movieId</th>\n",
       "      <th>title</th>\n",
       "      <th>genres</th>\n",
       "      <th>userId</th>\n",
       "      <th>rating</th>\n",
       "      <th>timestamp</th>\n",
       "      <th>timestamp_numeric</th>\n",
       "      <th>weekday_numeric</th>\n",
       "      <th>day_numeric</th>\n",
       "      <th>month_numeric</th>\n",
       "      <th>...</th>\n",
       "      <th>X_1121</th>\n",
       "      <th>X_1122</th>\n",
       "      <th>X_1123</th>\n",
       "      <th>X_1125</th>\n",
       "      <th>X_1126</th>\n",
       "      <th>X_1127</th>\n",
       "      <th>X_1128</th>\n",
       "      <th>X_movieId</th>\n",
       "      <th>Positive_ratings</th>\n",
       "      <th>release_year</th>\n",
       "    </tr>\n",
       "  </thead>\n",
       "  <tbody>\n",
       "    <tr>\n",
       "      <th>85078</th>\n",
       "      <td>981</td>\n",
       "      <td>Dangerous Ground (1997)</td>\n",
       "      <td>Drama</td>\n",
       "      <td>25878</td>\n",
       "      <td>3.0</td>\n",
       "      <td>1996-10-23 10:49:18</td>\n",
       "      <td>728955</td>\n",
       "      <td>2</td>\n",
       "      <td>23</td>\n",
       "      <td>10</td>\n",
       "      <td>...</td>\n",
       "      <td>0.0</td>\n",
       "      <td>0.0</td>\n",
       "      <td>0.0</td>\n",
       "      <td>0.0</td>\n",
       "      <td>0.0</td>\n",
       "      <td>0.0</td>\n",
       "      <td>0.0</td>\n",
       "      <td>981</td>\n",
       "      <td>0</td>\n",
       "      <td>1997</td>\n",
       "    </tr>\n",
       "    <tr>\n",
       "      <th>85082</th>\n",
       "      <td>981</td>\n",
       "      <td>Dangerous Ground (1997)</td>\n",
       "      <td>Drama</td>\n",
       "      <td>131678</td>\n",
       "      <td>3.0</td>\n",
       "      <td>1996-10-10 08:53:13</td>\n",
       "      <td>728942</td>\n",
       "      <td>3</td>\n",
       "      <td>10</td>\n",
       "      <td>10</td>\n",
       "      <td>...</td>\n",
       "      <td>0.0</td>\n",
       "      <td>0.0</td>\n",
       "      <td>0.0</td>\n",
       "      <td>0.0</td>\n",
       "      <td>0.0</td>\n",
       "      <td>0.0</td>\n",
       "      <td>0.0</td>\n",
       "      <td>981</td>\n",
       "      <td>0</td>\n",
       "      <td>1997</td>\n",
       "    </tr>\n",
       "    <tr>\n",
       "      <th>85171</th>\n",
       "      <td>987</td>\n",
       "      <td>Bliss (1997)</td>\n",
       "      <td>Drama|Romance</td>\n",
       "      <td>43041</td>\n",
       "      <td>3.0</td>\n",
       "      <td>1996-11-29 08:04:13</td>\n",
       "      <td>728992</td>\n",
       "      <td>4</td>\n",
       "      <td>29</td>\n",
       "      <td>11</td>\n",
       "      <td>...</td>\n",
       "      <td>0.0</td>\n",
       "      <td>0.0</td>\n",
       "      <td>0.0</td>\n",
       "      <td>0.0</td>\n",
       "      <td>0.0</td>\n",
       "      <td>0.0</td>\n",
       "      <td>0.0</td>\n",
       "      <td>987</td>\n",
       "      <td>0</td>\n",
       "      <td>1997</td>\n",
       "    </tr>\n",
       "    <tr>\n",
       "      <th>85174</th>\n",
       "      <td>987</td>\n",
       "      <td>Bliss (1997)</td>\n",
       "      <td>Drama|Romance</td>\n",
       "      <td>109145</td>\n",
       "      <td>2.0</td>\n",
       "      <td>1996-10-20 10:24:00</td>\n",
       "      <td>728952</td>\n",
       "      <td>6</td>\n",
       "      <td>20</td>\n",
       "      <td>10</td>\n",
       "      <td>...</td>\n",
       "      <td>0.0</td>\n",
       "      <td>0.0</td>\n",
       "      <td>0.0</td>\n",
       "      <td>0.0</td>\n",
       "      <td>0.0</td>\n",
       "      <td>0.0</td>\n",
       "      <td>0.0</td>\n",
       "      <td>987</td>\n",
       "      <td>0</td>\n",
       "      <td>1997</td>\n",
       "    </tr>\n",
       "    <tr>\n",
       "      <th>375499</th>\n",
       "      <td>89745</td>\n",
       "      <td>Avengers, The (2012)</td>\n",
       "      <td>Action|Adventure|Sci-Fi|IMAX</td>\n",
       "      <td>123609</td>\n",
       "      <td>4.0</td>\n",
       "      <td>2011-09-21 22:47:54</td>\n",
       "      <td>734401</td>\n",
       "      <td>2</td>\n",
       "      <td>21</td>\n",
       "      <td>9</td>\n",
       "      <td>...</td>\n",
       "      <td>0.0</td>\n",
       "      <td>0.0</td>\n",
       "      <td>0.0</td>\n",
       "      <td>0.0</td>\n",
       "      <td>0.0</td>\n",
       "      <td>0.0</td>\n",
       "      <td>0.0</td>\n",
       "      <td>89745</td>\n",
       "      <td>1</td>\n",
       "      <td>2012</td>\n",
       "    </tr>\n",
       "  </tbody>\n",
       "</table>\n",
       "<p>5 rows × 544 columns</p>\n",
       "</div>"
      ],
      "text/plain": [
       "        movieId                    title                        genres  \\\n",
       "85078       981  Dangerous Ground (1997)                         Drama   \n",
       "85082       981  Dangerous Ground (1997)                         Drama   \n",
       "85171       987             Bliss (1997)                 Drama|Romance   \n",
       "85174       987             Bliss (1997)                 Drama|Romance   \n",
       "375499    89745     Avengers, The (2012)  Action|Adventure|Sci-Fi|IMAX   \n",
       "\n",
       "        userId  rating            timestamp  timestamp_numeric  \\\n",
       "85078    25878     3.0  1996-10-23 10:49:18             728955   \n",
       "85082   131678     3.0  1996-10-10 08:53:13             728942   \n",
       "85171    43041     3.0  1996-11-29 08:04:13             728992   \n",
       "85174   109145     2.0  1996-10-20 10:24:00             728952   \n",
       "375499  123609     4.0  2011-09-21 22:47:54             734401   \n",
       "\n",
       "        weekday_numeric  day_numeric  month_numeric  ...  X_1121  X_1122  \\\n",
       "85078                 2           23             10  ...     0.0     0.0   \n",
       "85082                 3           10             10  ...     0.0     0.0   \n",
       "85171                 4           29             11  ...     0.0     0.0   \n",
       "85174                 6           20             10  ...     0.0     0.0   \n",
       "375499                2           21              9  ...     0.0     0.0   \n",
       "\n",
       "        X_1123  X_1125  X_1126  X_1127  X_1128  X_movieId  Positive_ratings  \\\n",
       "85078      0.0     0.0     0.0     0.0     0.0        981                 0   \n",
       "85082      0.0     0.0     0.0     0.0     0.0        981                 0   \n",
       "85171      0.0     0.0     0.0     0.0     0.0        987                 0   \n",
       "85174      0.0     0.0     0.0     0.0     0.0        987                 0   \n",
       "375499     0.0     0.0     0.0     0.0     0.0      89745                 1   \n",
       "\n",
       "        release_year  \n",
       "85078           1997  \n",
       "85082           1997  \n",
       "85171           1997  \n",
       "85174           1997  \n",
       "375499          2012  \n",
       "\n",
       "[5 rows x 544 columns]"
      ]
     },
     "execution_count": 51,
     "metadata": {},
     "output_type": "execute_result"
    }
   ],
   "source": [
    "#max(Movie_ratings_given['year_numeric']-Movie_ratings_given['release_year'])\n",
    "Movie_ratings_given[(Movie_ratings_given['year_numeric']-Movie_ratings_given['release_year'])==-1]"
   ]
  },
  {
   "cell_type": "code",
   "execution_count": 52,
   "id": "c824c564",
   "metadata": {},
   "outputs": [
    {
     "data": {
      "image/png": "[encoded data removed]",
      "text/plain": [
       "<Figure size 432x288 with 1 Axes>"
      ]
     },
     "metadata": {
      "needs_background": "light"
     },
     "output_type": "display_data"
    }
   ],
   "source": [
    "plt.hist(Movie_ratings_given['year_numeric']-Movie_ratings_given['release_year'])\n",
    "plt.show()"
   ]
  },
  {
   "cell_type": "code",
   "execution_count": 53,
   "id": "58786ef3",
   "metadata": {},
   "outputs": [],
   "source": [
    "Movie_ratings_given_1=Movie_ratings_given[(Movie_ratings_given['year_numeric']-Movie_ratings_given['release_year']<=5) ]\n",
    "Movie_ratings_given=Movie_ratings_given_1[(Movie_ratings_given_1['year_numeric']-Movie_ratings_given_1['release_year']>=0)]\n"
   ]
  },
  {
   "cell_type": "code",
   "execution_count": 54,
   "id": "319c2587",
   "metadata": {},
   "outputs": [
    {
     "data": {
      "text/plain": [
       "(138813, 544)"
      ]
     },
     "execution_count": 54,
     "metadata": {},
     "output_type": "execute_result"
    }
   ],
   "source": [
    "Movie_ratings_given.shape"
   ]
  },
  {
   "cell_type": "code",
   "execution_count": null,
   "id": "58e3b0a6",
   "metadata": {},
   "outputs": [],
   "source": []
  },
  {
   "cell_type": "markdown",
   "id": "1f44bef3",
   "metadata": {},
   "source": [
    "Note: the timestamp have a data type not valid for the tensors, as I already catched some  information of interes from it, there is no reason to keep it."
   ]
  },
  {
   "cell_type": "code",
   "execution_count": 55,
   "id": "b8556b86",
   "metadata": {},
   "outputs": [
    {
     "name": "stderr",
     "output_type": "stream",
     "text": [
      "<ipython-input-55-195c0647d5d6>:1: SettingWithCopyWarning: \n",
      "A value is trying to be set on a copy of a slice from a DataFrame.\n",
      "Try using .loc[row_indexer,col_indexer] = value instead\n",
      "\n",
      "See the caveats in the documentation: https://pandas.pydata.org/pandas-docs/stable/user_guide/indexing.html#returning-a-view-versus-a-copy\n",
      "  Movie_ratings_given['userId']=Movie_ratings_given['userId'].astype('str')\n",
      "<ipython-input-55-195c0647d5d6>:2: SettingWithCopyWarning: \n",
      "A value is trying to be set on a copy of a slice from a DataFrame.\n",
      "Try using .loc[row_indexer,col_indexer] = value instead\n",
      "\n",
      "See the caveats in the documentation: https://pandas.pydata.org/pandas-docs/stable/user_guide/indexing.html#returning-a-view-versus-a-copy\n",
      "  Movie_ratings_given['movieId']=Movie_ratings_given['movieId'].astype('str')\n"
     ]
    }
   ],
   "source": [
    "Movie_ratings_given['userId']=Movie_ratings_given['userId'].astype('str')\n",
    "Movie_ratings_given['movieId']=Movie_ratings_given['movieId'].astype('str')\n",
    "\n",
    "\n",
    "\n",
    "\n",
    "#Movie_ratings_given=Movie_ratings_given.drop('timestamp',axis=1)"
   ]
  },
  {
   "cell_type": "code",
   "execution_count": 56,
   "id": "ecbe3603",
   "metadata": {},
   "outputs": [
    {
     "data": {
      "text/html": [
       "<div>\n",
       "<style scoped>\n",
       "    .dataframe tbody tr th:only-of-type {\n",
       "        vertical-align: middle;\n",
       "    }\n",
       "\n",
       "    .dataframe tbody tr th {\n",
       "        vertical-align: top;\n",
       "    }\n",
       "\n",
       "    .dataframe thead th {\n",
       "        text-align: right;\n",
       "    }\n",
       "</style>\n",
       "<table border=\"1\" class=\"dataframe\">\n",
       "  <thead>\n",
       "    <tr style=\"text-align: right;\">\n",
       "      <th></th>\n",
       "      <th>rating</th>\n",
       "      <th>timestamp_numeric</th>\n",
       "      <th>weekday_numeric</th>\n",
       "      <th>day_numeric</th>\n",
       "      <th>month_numeric</th>\n",
       "      <th>year_numeric</th>\n",
       "      <th>X_1</th>\n",
       "      <th>X_2</th>\n",
       "      <th>X_3</th>\n",
       "      <th>X_5</th>\n",
       "      <th>...</th>\n",
       "      <th>X_1119</th>\n",
       "      <th>X_1121</th>\n",
       "      <th>X_1122</th>\n",
       "      <th>X_1123</th>\n",
       "      <th>X_1125</th>\n",
       "      <th>X_1126</th>\n",
       "      <th>X_1127</th>\n",
       "      <th>X_1128</th>\n",
       "      <th>X_movieId</th>\n",
       "      <th>Positive_ratings</th>\n",
       "    </tr>\n",
       "  </thead>\n",
       "  <tbody>\n",
       "    <tr>\n",
       "      <th>count</th>\n",
       "      <td>138813.000000</td>\n",
       "      <td>138813.000000</td>\n",
       "      <td>138813.000000</td>\n",
       "      <td>138813.000000</td>\n",
       "      <td>138813.000000</td>\n",
       "      <td>138813.000000</td>\n",
       "      <td>138813.000000</td>\n",
       "      <td>138813.000000</td>\n",
       "      <td>138813.000000</td>\n",
       "      <td>138813.000000</td>\n",
       "      <td>...</td>\n",
       "      <td>138813.000000</td>\n",
       "      <td>138813.000000</td>\n",
       "      <td>138813.000000</td>\n",
       "      <td>138813.000000</td>\n",
       "      <td>138813.000000</td>\n",
       "      <td>138813.000000</td>\n",
       "      <td>138813.000000</td>\n",
       "      <td>138813.000000</td>\n",
       "      <td>138813.000000</td>\n",
       "      <td>138813.000000</td>\n",
       "    </tr>\n",
       "    <tr>\n",
       "      <th>mean</th>\n",
       "      <td>3.440481</td>\n",
       "      <td>731597.550799</td>\n",
       "      <td>2.921254</td>\n",
       "      <td>15.650443</td>\n",
       "      <td>6.789796</td>\n",
       "      <td>2003.523445</td>\n",
       "      <td>0.005371</td>\n",
       "      <td>0.006174</td>\n",
       "      <td>0.004818</td>\n",
       "      <td>0.001906</td>\n",
       "      <td>...</td>\n",
       "      <td>0.007312</td>\n",
       "      <td>0.007023</td>\n",
       "      <td>0.003427</td>\n",
       "      <td>0.004104</td>\n",
       "      <td>0.006044</td>\n",
       "      <td>0.005427</td>\n",
       "      <td>0.002163</td>\n",
       "      <td>0.004485</td>\n",
       "      <td>19347.291673</td>\n",
       "      <td>0.465137</td>\n",
       "    </tr>\n",
       "    <tr>\n",
       "      <th>std</th>\n",
       "      <td>1.044740</td>\n",
       "      <td>1819.203227</td>\n",
       "      <td>2.042227</td>\n",
       "      <td>8.756201</td>\n",
       "      <td>3.536815</td>\n",
       "      <td>5.020724</td>\n",
       "      <td>0.073073</td>\n",
       "      <td>0.078026</td>\n",
       "      <td>0.068125</td>\n",
       "      <td>0.042078</td>\n",
       "      <td>...</td>\n",
       "      <td>0.084031</td>\n",
       "      <td>0.082918</td>\n",
       "      <td>0.057598</td>\n",
       "      <td>0.061634</td>\n",
       "      <td>0.077241</td>\n",
       "      <td>0.072729</td>\n",
       "      <td>0.045432</td>\n",
       "      <td>0.065805</td>\n",
       "      <td>28564.240476</td>\n",
       "      <td>0.498785</td>\n",
       "    </tr>\n",
       "    <tr>\n",
       "      <th>min</th>\n",
       "      <td>0.500000</td>\n",
       "      <td>728687.000000</td>\n",
       "      <td>0.000000</td>\n",
       "      <td>1.000000</td>\n",
       "      <td>1.000000</td>\n",
       "      <td>1996.000000</td>\n",
       "      <td>0.000000</td>\n",
       "      <td>0.000000</td>\n",
       "      <td>0.000000</td>\n",
       "      <td>0.000000</td>\n",
       "      <td>...</td>\n",
       "      <td>0.000000</td>\n",
       "      <td>0.000000</td>\n",
       "      <td>0.000000</td>\n",
       "      <td>0.000000</td>\n",
       "      <td>0.000000</td>\n",
       "      <td>0.000000</td>\n",
       "      <td>0.000000</td>\n",
       "      <td>0.000000</td>\n",
       "      <td>1.000000</td>\n",
       "      <td>0.000000</td>\n",
       "    </tr>\n",
       "    <tr>\n",
       "      <th>25%</th>\n",
       "      <td>3.000000</td>\n",
       "      <td>730175.000000</td>\n",
       "      <td>1.000000</td>\n",
       "      <td>8.000000</td>\n",
       "      <td>4.000000</td>\n",
       "      <td>2000.000000</td>\n",
       "      <td>0.000000</td>\n",
       "      <td>0.000000</td>\n",
       "      <td>0.000000</td>\n",
       "      <td>0.000000</td>\n",
       "      <td>...</td>\n",
       "      <td>0.000000</td>\n",
       "      <td>0.000000</td>\n",
       "      <td>0.000000</td>\n",
       "      <td>0.000000</td>\n",
       "      <td>0.000000</td>\n",
       "      <td>0.000000</td>\n",
       "      <td>0.000000</td>\n",
       "      <td>0.000000</td>\n",
       "      <td>1573.000000</td>\n",
       "      <td>0.000000</td>\n",
       "    </tr>\n",
       "    <tr>\n",
       "      <th>50%</th>\n",
       "      <td>3.500000</td>\n",
       "      <td>731473.000000</td>\n",
       "      <td>3.000000</td>\n",
       "      <td>16.000000</td>\n",
       "      <td>7.000000</td>\n",
       "      <td>2003.000000</td>\n",
       "      <td>0.000000</td>\n",
       "      <td>0.000000</td>\n",
       "      <td>0.000000</td>\n",
       "      <td>0.000000</td>\n",
       "      <td>...</td>\n",
       "      <td>0.000000</td>\n",
       "      <td>0.000000</td>\n",
       "      <td>0.000000</td>\n",
       "      <td>0.000000</td>\n",
       "      <td>0.000000</td>\n",
       "      <td>0.000000</td>\n",
       "      <td>0.000000</td>\n",
       "      <td>0.000000</td>\n",
       "      <td>4267.000000</td>\n",
       "      <td>0.000000</td>\n",
       "    </tr>\n",
       "    <tr>\n",
       "      <th>75%</th>\n",
       "      <td>4.000000</td>\n",
       "      <td>732940.000000</td>\n",
       "      <td>5.000000</td>\n",
       "      <td>23.000000</td>\n",
       "      <td>10.000000</td>\n",
       "      <td>2007.000000</td>\n",
       "      <td>0.000000</td>\n",
       "      <td>0.000000</td>\n",
       "      <td>0.000000</td>\n",
       "      <td>0.000000</td>\n",
       "      <td>...</td>\n",
       "      <td>0.000000</td>\n",
       "      <td>0.000000</td>\n",
       "      <td>0.000000</td>\n",
       "      <td>0.000000</td>\n",
       "      <td>0.000000</td>\n",
       "      <td>0.000000</td>\n",
       "      <td>0.000000</td>\n",
       "      <td>0.000000</td>\n",
       "      <td>33896.000000</td>\n",
       "      <td>1.000000</td>\n",
       "    </tr>\n",
       "    <tr>\n",
       "      <th>max</th>\n",
       "      <td>5.000000</td>\n",
       "      <td>735688.000000</td>\n",
       "      <td>6.000000</td>\n",
       "      <td>31.000000</td>\n",
       "      <td>12.000000</td>\n",
       "      <td>2015.000000</td>\n",
       "      <td>0.999750</td>\n",
       "      <td>1.000000</td>\n",
       "      <td>0.998000</td>\n",
       "      <td>0.976250</td>\n",
       "      <td>...</td>\n",
       "      <td>0.998500</td>\n",
       "      <td>0.999000</td>\n",
       "      <td>0.997500</td>\n",
       "      <td>0.980000</td>\n",
       "      <td>0.999750</td>\n",
       "      <td>0.996250</td>\n",
       "      <td>0.986000</td>\n",
       "      <td>0.991500</td>\n",
       "      <td>130496.000000</td>\n",
       "      <td>1.000000</td>\n",
       "    </tr>\n",
       "  </tbody>\n",
       "</table>\n",
       "<p>8 rows × 538 columns</p>\n",
       "</div>"
      ],
      "text/plain": [
       "              rating  timestamp_numeric  weekday_numeric    day_numeric  \\\n",
       "count  138813.000000      138813.000000    138813.000000  138813.000000   \n",
       "mean        3.440481      731597.550799         2.921254      15.650443   \n",
       "std         1.044740        1819.203227         2.042227       8.756201   \n",
       "min         0.500000      728687.000000         0.000000       1.000000   \n",
       "25%         3.000000      730175.000000         1.000000       8.000000   \n",
       "50%         3.500000      731473.000000         3.000000      16.000000   \n",
       "75%         4.000000      732940.000000         5.000000      23.000000   \n",
       "max         5.000000      735688.000000         6.000000      31.000000   \n",
       "\n",
       "       month_numeric   year_numeric            X_1            X_2  \\\n",
       "count  138813.000000  138813.000000  138813.000000  138813.000000   \n",
       "mean        6.789796    2003.523445       0.005371       0.006174   \n",
       "std         3.536815       5.020724       0.073073       0.078026   \n",
       "min         1.000000    1996.000000       0.000000       0.000000   \n",
       "25%         4.000000    2000.000000       0.000000       0.000000   \n",
       "50%         7.000000    2003.000000       0.000000       0.000000   \n",
       "75%        10.000000    2007.000000       0.000000       0.000000   \n",
       "max        12.000000    2015.000000       0.999750       1.000000   \n",
       "\n",
       "                 X_3            X_5  ...         X_1119         X_1121  \\\n",
       "count  138813.000000  138813.000000  ...  138813.000000  138813.000000   \n",
       "mean        0.004818       0.001906  ...       0.007312       0.007023   \n",
       "std         0.068125       0.042078  ...       0.084031       0.082918   \n",
       "min         0.000000       0.000000  ...       0.000000       0.000000   \n",
       "25%         0.000000       0.000000  ...       0.000000       0.000000   \n",
       "50%         0.000000       0.000000  ...       0.000000       0.000000   \n",
       "75%         0.000000       0.000000  ...       0.000000       0.000000   \n",
       "max         0.998000       0.976250  ...       0.998500       0.999000   \n",
       "\n",
       "              X_1122         X_1123         X_1125         X_1126  \\\n",
       "count  138813.000000  138813.000000  138813.000000  138813.000000   \n",
       "mean        0.003427       0.004104       0.006044       0.005427   \n",
       "std         0.057598       0.061634       0.077241       0.072729   \n",
       "min         0.000000       0.000000       0.000000       0.000000   \n",
       "25%         0.000000       0.000000       0.000000       0.000000   \n",
       "50%         0.000000       0.000000       0.000000       0.000000   \n",
       "75%         0.000000       0.000000       0.000000       0.000000   \n",
       "max         0.997500       0.980000       0.999750       0.996250   \n",
       "\n",
       "              X_1127         X_1128      X_movieId  Positive_ratings  \n",
       "count  138813.000000  138813.000000  138813.000000     138813.000000  \n",
       "mean        0.002163       0.004485   19347.291673          0.465137  \n",
       "std         0.045432       0.065805   28564.240476          0.498785  \n",
       "min         0.000000       0.000000       1.000000          0.000000  \n",
       "25%         0.000000       0.000000    1573.000000          0.000000  \n",
       "50%         0.000000       0.000000    4267.000000          0.000000  \n",
       "75%         0.000000       0.000000   33896.000000          1.000000  \n",
       "max         0.986000       0.991500  130496.000000          1.000000  \n",
       "\n",
       "[8 rows x 538 columns]"
      ]
     },
     "execution_count": 56,
     "metadata": {},
     "output_type": "execute_result"
    }
   ],
   "source": [
    "Movie_ratings_given.describe()"
   ]
  },
  {
   "cell_type": "code",
   "execution_count": 57,
   "id": "178e8ea5",
   "metadata": {},
   "outputs": [
    {
     "data": {
      "text/html": [
       "<div>\n",
       "<style scoped>\n",
       "    .dataframe tbody tr th:only-of-type {\n",
       "        vertical-align: middle;\n",
       "    }\n",
       "\n",
       "    .dataframe tbody tr th {\n",
       "        vertical-align: top;\n",
       "    }\n",
       "\n",
       "    .dataframe thead th {\n",
       "        text-align: right;\n",
       "    }\n",
       "</style>\n",
       "<table border=\"1\" class=\"dataframe\">\n",
       "  <thead>\n",
       "    <tr style=\"text-align: right;\">\n",
       "      <th></th>\n",
       "      <th>movieId</th>\n",
       "      <th>title</th>\n",
       "      <th>genres</th>\n",
       "      <th>userId</th>\n",
       "      <th>rating</th>\n",
       "      <th>timestamp</th>\n",
       "      <th>timestamp_numeric</th>\n",
       "      <th>weekday_numeric</th>\n",
       "      <th>day_numeric</th>\n",
       "      <th>month_numeric</th>\n",
       "      <th>...</th>\n",
       "      <th>X_1121</th>\n",
       "      <th>X_1122</th>\n",
       "      <th>X_1123</th>\n",
       "      <th>X_1125</th>\n",
       "      <th>X_1126</th>\n",
       "      <th>X_1127</th>\n",
       "      <th>X_1128</th>\n",
       "      <th>X_movieId</th>\n",
       "      <th>Positive_ratings</th>\n",
       "      <th>release_year</th>\n",
       "    </tr>\n",
       "  </thead>\n",
       "  <tbody>\n",
       "    <tr>\n",
       "      <th>1</th>\n",
       "      <td>1</td>\n",
       "      <td>Toy Story (1995)</td>\n",
       "      <td>Adventure|Animation|Children|Comedy|Fantasy</td>\n",
       "      <td>489</td>\n",
       "      <td>5.0</td>\n",
       "      <td>1999-03-07 14:15:46</td>\n",
       "      <td>729820</td>\n",
       "      <td>6</td>\n",
       "      <td>7</td>\n",
       "      <td>3</td>\n",
       "      <td>...</td>\n",
       "      <td>0.0</td>\n",
       "      <td>0.0</td>\n",
       "      <td>0.0</td>\n",
       "      <td>0.0</td>\n",
       "      <td>0.0</td>\n",
       "      <td>0.0</td>\n",
       "      <td>0.0</td>\n",
       "      <td>1</td>\n",
       "      <td>1</td>\n",
       "      <td>1995</td>\n",
       "    </tr>\n",
       "    <tr>\n",
       "      <th>3</th>\n",
       "      <td>1</td>\n",
       "      <td>Toy Story (1995)</td>\n",
       "      <td>Adventure|Animation|Children|Comedy|Fantasy</td>\n",
       "      <td>603</td>\n",
       "      <td>4.0</td>\n",
       "      <td>1997-02-23 10:55:37</td>\n",
       "      <td>729078</td>\n",
       "      <td>6</td>\n",
       "      <td>23</td>\n",
       "      <td>2</td>\n",
       "      <td>...</td>\n",
       "      <td>0.0</td>\n",
       "      <td>0.0</td>\n",
       "      <td>0.0</td>\n",
       "      <td>0.0</td>\n",
       "      <td>0.0</td>\n",
       "      <td>0.0</td>\n",
       "      <td>0.0</td>\n",
       "      <td>1</td>\n",
       "      <td>1</td>\n",
       "      <td>1995</td>\n",
       "    </tr>\n",
       "    <tr>\n",
       "      <th>6</th>\n",
       "      <td>1</td>\n",
       "      <td>Toy Story (1995)</td>\n",
       "      <td>Adventure|Animation|Children|Comedy|Fantasy</td>\n",
       "      <td>936</td>\n",
       "      <td>4.0</td>\n",
       "      <td>1999-10-02 00:18:51</td>\n",
       "      <td>730029</td>\n",
       "      <td>5</td>\n",
       "      <td>2</td>\n",
       "      <td>10</td>\n",
       "      <td>...</td>\n",
       "      <td>0.0</td>\n",
       "      <td>0.0</td>\n",
       "      <td>0.0</td>\n",
       "      <td>0.0</td>\n",
       "      <td>0.0</td>\n",
       "      <td>0.0</td>\n",
       "      <td>0.0</td>\n",
       "      <td>1</td>\n",
       "      <td>1</td>\n",
       "      <td>1995</td>\n",
       "    </tr>\n",
       "    <tr>\n",
       "      <th>7</th>\n",
       "      <td>1</td>\n",
       "      <td>Toy Story (1995)</td>\n",
       "      <td>Adventure|Animation|Children|Comedy|Fantasy</td>\n",
       "      <td>1058</td>\n",
       "      <td>5.0</td>\n",
       "      <td>1996-11-26 10:15:04</td>\n",
       "      <td>728989</td>\n",
       "      <td>1</td>\n",
       "      <td>26</td>\n",
       "      <td>11</td>\n",
       "      <td>...</td>\n",
       "      <td>0.0</td>\n",
       "      <td>0.0</td>\n",
       "      <td>0.0</td>\n",
       "      <td>0.0</td>\n",
       "      <td>0.0</td>\n",
       "      <td>0.0</td>\n",
       "      <td>0.0</td>\n",
       "      <td>1</td>\n",
       "      <td>1</td>\n",
       "      <td>1995</td>\n",
       "    </tr>\n",
       "    <tr>\n",
       "      <th>15</th>\n",
       "      <td>1</td>\n",
       "      <td>Toy Story (1995)</td>\n",
       "      <td>Adventure|Animation|Children|Comedy|Fantasy</td>\n",
       "      <td>2430</td>\n",
       "      <td>5.0</td>\n",
       "      <td>1996-06-02 16:21:29</td>\n",
       "      <td>728812</td>\n",
       "      <td>6</td>\n",
       "      <td>2</td>\n",
       "      <td>6</td>\n",
       "      <td>...</td>\n",
       "      <td>0.0</td>\n",
       "      <td>0.0</td>\n",
       "      <td>0.0</td>\n",
       "      <td>0.0</td>\n",
       "      <td>0.0</td>\n",
       "      <td>0.0</td>\n",
       "      <td>0.0</td>\n",
       "      <td>1</td>\n",
       "      <td>1</td>\n",
       "      <td>1995</td>\n",
       "    </tr>\n",
       "  </tbody>\n",
       "</table>\n",
       "<p>5 rows × 544 columns</p>\n",
       "</div>"
      ],
      "text/plain": [
       "   movieId             title                                       genres  \\\n",
       "1        1  Toy Story (1995)  Adventure|Animation|Children|Comedy|Fantasy   \n",
       "3        1  Toy Story (1995)  Adventure|Animation|Children|Comedy|Fantasy   \n",
       "6        1  Toy Story (1995)  Adventure|Animation|Children|Comedy|Fantasy   \n",
       "7        1  Toy Story (1995)  Adventure|Animation|Children|Comedy|Fantasy   \n",
       "15       1  Toy Story (1995)  Adventure|Animation|Children|Comedy|Fantasy   \n",
       "\n",
       "   userId  rating            timestamp  timestamp_numeric  weekday_numeric  \\\n",
       "1     489     5.0  1999-03-07 14:15:46             729820                6   \n",
       "3     603     4.0  1997-02-23 10:55:37             729078                6   \n",
       "6     936     4.0  1999-10-02 00:18:51             730029                5   \n",
       "7    1058     5.0  1996-11-26 10:15:04             728989                1   \n",
       "15   2430     5.0  1996-06-02 16:21:29             728812                6   \n",
       "\n",
       "    day_numeric  month_numeric  ...  X_1121  X_1122  X_1123  X_1125  X_1126  \\\n",
       "1             7              3  ...     0.0     0.0     0.0     0.0     0.0   \n",
       "3            23              2  ...     0.0     0.0     0.0     0.0     0.0   \n",
       "6             2             10  ...     0.0     0.0     0.0     0.0     0.0   \n",
       "7            26             11  ...     0.0     0.0     0.0     0.0     0.0   \n",
       "15            2              6  ...     0.0     0.0     0.0     0.0     0.0   \n",
       "\n",
       "    X_1127  X_1128  X_movieId  Positive_ratings  release_year  \n",
       "1      0.0     0.0          1                 1          1995  \n",
       "3      0.0     0.0          1                 1          1995  \n",
       "6      0.0     0.0          1                 1          1995  \n",
       "7      0.0     0.0          1                 1          1995  \n",
       "15     0.0     0.0          1                 1          1995  \n",
       "\n",
       "[5 rows x 544 columns]"
      ]
     },
     "execution_count": 57,
     "metadata": {},
     "output_type": "execute_result"
    }
   ],
   "source": [
    "Movie_ratings_given.head()"
   ]
  },
  {
   "cell_type": "code",
   "execution_count": 58,
   "id": "92f39e6c",
   "metadata": {},
   "outputs": [
    {
     "data": {
      "text/plain": [
       "dtype('int64')"
      ]
     },
     "execution_count": 58,
     "metadata": {},
     "output_type": "execute_result"
    }
   ],
   "source": [
    "Movie_ratings_given['weekday_numeric'].dtype"
   ]
  },
  {
   "cell_type": "code",
   "execution_count": 59,
   "id": "2ed4752f",
   "metadata": {},
   "outputs": [
    {
     "name": "stderr",
     "output_type": "stream",
     "text": [
      "<ipython-input-59-1031640d5879>:1: SettingWithCopyWarning: \n",
      "A value is trying to be set on a copy of a slice from a DataFrame.\n",
      "Try using .loc[row_indexer,col_indexer] = value instead\n",
      "\n",
      "See the caveats in the documentation: https://pandas.pydata.org/pandas-docs/stable/user_guide/indexing.html#returning-a-view-versus-a-copy\n",
      "  Movie_ratings_given['release_year']=Movie_ratings_given['release_year'].astype(float)\n"
     ]
    }
   ],
   "source": [
    "Movie_ratings_given['release_year']=Movie_ratings_given['release_year'].astype(float)"
   ]
  },
  {
   "cell_type": "code",
   "execution_count": 60,
   "id": "3ed83eba",
   "metadata": {},
   "outputs": [
    {
     "data": {
      "text/plain": [
       "1          3\n",
       "3          2\n",
       "6         10\n",
       "7         11\n",
       "15         6\n",
       "          ..\n",
       "380485     2\n",
       "380486     3\n",
       "380487     3\n",
       "380488     3\n",
       "380489     3\n",
       "Name: month_numeric, Length: 138813, dtype: int64"
      ]
     },
     "execution_count": 60,
     "metadata": {},
     "output_type": "execute_result"
    }
   ],
   "source": [
    "Movie_ratings_given['month_numeric']"
   ]
  },
  {
   "cell_type": "markdown",
   "id": "5f17dce4",
   "metadata": {},
   "source": [
    "#### Ready to setup Tensorflow tensors. (Here I included all the data that will be used in the modelling)"
   ]
  },
  {
   "cell_type": "code",
   "execution_count": 61,
   "id": "9662ce21",
   "metadata": {},
   "outputs": [],
   "source": [
    "\n",
    "\n",
    "\n",
    "rating_tf=tf.data.Dataset.from_tensor_slices(dict(Movie_ratings_given))\n",
    "\n",
    "rating_tf=rating_tf.map(lambda x: {\n",
    "    'title' : x['title'],\n",
    "    'userId' : x['userId'],\n",
    "    'Positive_ratings' : x['Positive_ratings'],\n",
    "     'X_742': int(x['X_742']) , \n",
    "    'X_230': int(x['X_230'])  ,\n",
    "    'X_270': int(x['X_270'])  ,\n",
    "    'X_522': int(x['X_522'])  ,\n",
    "    'X_19': int(x['X_19'])  ,\n",
    "    'X_107': int(x['X_107'])  ,\n",
    "    'X_846': int(x['X_846'])  ,\n",
    "    'weekday_numeric' : int(x['weekday_numeric']),\n",
    "    'month_numeric' : int(x['month_numeric']),\n",
    "    'timestamp_numeric':int(x['timestamp_numeric'])\n",
    "    \n",
    "}\n",
    "    \n",
    ")\n",
    "\n",
    "\n",
    "movies_tf=tf.data.Dataset.from_tensor_slices(dict(Movie_ratings_given))\n",
    "\n",
    "movies_tf=movies_tf.map(lambda x: x['title']\n",
    "\n",
    "             )"
   ]
  },
  {
   "cell_type": "markdown",
   "id": "ae1e85b3",
   "metadata": {},
   "source": [
    "There are many other tags that could be included into the modelling , however for memory allocation sake will be used only if it is needed"
   ]
  },
  {
   "cell_type": "markdown",
   "id": "59717957",
   "metadata": {},
   "source": [
    "#### Modelling (Model contains some feature processing)\n"
   ]
  },
  {
   "cell_type": "markdown",
   "id": "304b4759",
   "metadata": {},
   "source": [
    "As it could be seen in the previous section, the weekdays and months were already enconded into numerical catergories. I will work with them without additional transformations (Normalizations) as they represent literal strings. I just will use them as dictionaries in the cross networks development\n"
   ]
  },
  {
   "cell_type": "code",
   "execution_count": 62,
   "id": "a9d7ac3f",
   "metadata": {},
   "outputs": [],
   "source": [
    "feature_names = [ \"weekday_numeric\", \"X_742\",\"X_230\",\"X_270\",\"X_522\",\"X_19\",\"X_107\",\"X_846\",\"title\", \"userId\",\"month_numeric\",\"timestamp_numeric\"] #\"timestamp_numeric\",\n",
    "\n",
    "vocabularies = {}\n",
    "\n",
    "for feature_name in feature_names:\n",
    "  vocab = rating_tf.batch(1_000_000).map(lambda x: x[feature_name])\n",
    "  vocabularies[feature_name] = np.unique(np.concatenate(list(vocab)))\n"
   ]
  },
  {
   "cell_type": "code",
   "execution_count": 63,
   "id": "95e4d916",
   "metadata": {},
   "outputs": [],
   "source": [
    "class DCN(tfrs.Model):\n",
    "    def __init__(self,use_cross_layer,deep_layer_sizes,projection_dim=None):\n",
    "        super().__init__()\n",
    "        \n",
    "        self.embedding_dimension=32\n",
    "        \n",
    "        #features declaration \n",
    "        str_features=[\"title\",\"userId\"]\n",
    "        int_features=[\"weekday_numeric\", \"X_742\",\"X_230\",\"X_270\",\"X_522\",\"X_19\",\"X_107\",\"X_846\",\"month_numeric\",\"timestamp_numeric\"] #\"timestamp_numeric\"\n",
    "        \n",
    "        \n",
    "        \n",
    "        self._all_features= str_features + int_features\n",
    "        \n",
    "        #feature embedding dictionaries \n",
    "        \n",
    "        self._embeddings={}\n",
    "        \n",
    "        for feature_name in str_features:\n",
    "            vocabulary = vocabularies[feature_name]\n",
    "            self._embeddings[feature_name] = tf.keras.Sequential([\n",
    "            tf.keras.layers.experimental.preprocessing.StringLookup(vocabulary=vocabulary, mask_token=None),\n",
    "            tf.keras.layers.Embedding(len(vocabulary) + 1,self.embedding_dimension)\n",
    "            ])\n",
    "            \n",
    "                \n",
    "        for feature_name in int_features:\n",
    "            vocabulary = vocabularies[feature_name]\n",
    "            self._embeddings[feature_name] = tf.keras.Sequential([\n",
    "            tf.keras.layers.experimental.preprocessing.IntegerLookup(vocabulary=vocabulary, mask_token=None),\n",
    "            tf.keras.layers.Embedding(len(vocabulary) + 1,self.embedding_dimension)\n",
    "            ])\n",
    "            \n",
    "        ## Cross layer creation (in case that is activated) <- to use combined features\n",
    "\n",
    "            \n",
    "        if use_cross_layer:\n",
    "            self._cross_layer=tfrs.layers.dcn.Cross(\n",
    "                projection_dim=projection_dim,\n",
    "                kernel_initializer='glorot_uniform'\n",
    "            )\n",
    "        else:\n",
    "            self._cross_layer=None\n",
    "            \n",
    "        \n",
    "        ## Deep network creation (it is always working for ranking purpouses)\n",
    "        \n",
    "        self._deep_layers=[tf.keras.layers.Dense(layer_size,activation=\"relu\") for layer_size in deep_layer_sizes]\n",
    "        self._logit_layer=tf.keras.layers.Dense(1,activation=\"sigmoid\")\n",
    "        \n",
    "        self.task=tfrs.tasks.Ranking(\n",
    "        loss= tf.keras.losses.BinaryCrossentropy(from_logits=True), #tf.keras.losses.MeanSquaredError(),\n",
    "        metrics=[tf.keras.metrics.Recall()]#tf.keras.metrics.RootMeanSquaredError(\"RMSE\")\n",
    "        )\n",
    "            \n",
    "  \n",
    "\n",
    "    def call(self, features):\n",
    "        embeddings=[]\n",
    "        for feature_name in self._all_features:\n",
    "            embedding_fn=self._embeddings[feature_name]\n",
    "            embeddings.append(embedding_fn(features[feature_name]))\n",
    "            \n",
    "        x=(tf.concat(embeddings,axis=1))\n",
    "        \n",
    "        \n",
    "        if self._cross_layer is not None:\n",
    "            x=self._cross_layer(x)\n",
    "        \n",
    "        \n",
    "        for deep_layer in self._deep_layers:\n",
    "            x=deep_layer(x)\n",
    "        \n",
    "        return self._logit_layer(x)\n",
    "    \n",
    "    \n",
    "    def compute_loss(self,features , training=False):\n",
    "\n",
    "        labels = features.pop(\"Positive_ratings\")\n",
    "\n",
    "        rating_predictions = self(features)\n",
    "\n",
    "        return self.task(labels=labels,predictions=rating_predictions)\n",
    "\n",
    "            "
   ]
  },
  {
   "cell_type": "markdown",
   "id": "7947df9f",
   "metadata": {},
   "source": [
    "#### Train an Test sets (80% - 20%)"
   ]
  },
  {
   "cell_type": "code",
   "execution_count": 64,
   "id": "cb748c08",
   "metadata": {},
   "outputs": [
    {
     "data": {
      "text/plain": [
       "Index(['movieId', 'title', 'genres', 'userId', 'rating', 'timestamp',\n",
       "       'timestamp_numeric', 'weekday_numeric', 'day_numeric', 'month_numeric',\n",
       "       ...\n",
       "       'X_1121', 'X_1122', 'X_1123', 'X_1125', 'X_1126', 'X_1127', 'X_1128',\n",
       "       'X_movieId', 'Positive_ratings', 'release_year'],\n",
       "      dtype='object', length=544)"
      ]
     },
     "execution_count": 64,
     "metadata": {},
     "output_type": "execute_result"
    }
   ],
   "source": [
    "Movie_ratings_given.columns"
   ]
  },
  {
   "cell_type": "code",
   "execution_count": 65,
   "id": "95569665",
   "metadata": {},
   "outputs": [],
   "source": [
    "#agregar train y test cronologicos  train 1995-2009 test 2010-2015\n",
    "Movie_ratings_given_train=Movie_ratings_given[Movie_ratings_given['release_year']<=2009] \n",
    "Movie_ratings_given_test=Movie_ratings_given[Movie_ratings_given['release_year']>=2010] "
   ]
  },
  {
   "cell_type": "code",
   "execution_count": 66,
   "id": "eb3c1c99",
   "metadata": {},
   "outputs": [
    {
     "name": "stdout",
     "output_type": "stream",
     "text": [
      "train shape (128960, 544)\n",
      "test shape (9853, 544)\n"
     ]
    }
   ],
   "source": [
    "print(\"train shape\",Movie_ratings_given_train.shape)\n",
    "print(\"test shape\",Movie_ratings_given_test.shape)\n"
   ]
  },
  {
   "cell_type": "code",
   "execution_count": 67,
   "id": "f497522c",
   "metadata": {},
   "outputs": [],
   "source": [
    "\n",
    "\n",
    "rating_tf_train=tf.data.Dataset.from_tensor_slices(dict(Movie_ratings_given_train))\n",
    "\n",
    "rating_tf_train=rating_tf_train.map(lambda x: {\n",
    "    'title' : x['title'],\n",
    "    'userId' : x['userId'],\n",
    "    'Positive_ratings' : x['Positive_ratings'],\n",
    "     'X_742': int(x['X_742']) , \n",
    "    'X_230': int(x['X_230'])  ,\n",
    "    'X_270': int(x['X_270'])  ,\n",
    "    'X_522': int(x['X_522'])  ,\n",
    "    'X_19': int(x['X_19'])  ,\n",
    "    'X_107': int(x['X_107'])  ,\n",
    "    'X_846': int(x['X_846'])  ,\n",
    "    'weekday_numeric' : int(x['weekday_numeric']),\n",
    "    'month_numeric' : int(x['month_numeric']),\n",
    "    'timestamp_numeric':int(x['timestamp_numeric'])\n",
    "    \n",
    "}\n",
    "    \n",
    ")\n",
    "\n",
    "rating_tf_test=tf.data.Dataset.from_tensor_slices(dict(Movie_ratings_given_test))\n",
    "\n",
    "rating_tf_test=rating_tf_test.map(lambda x: {\n",
    "    'title' : x['title'],\n",
    "    'userId' : x['userId'],\n",
    "    'Positive_ratings' : x['Positive_ratings'],\n",
    "     'X_742': int(x['X_742']) , \n",
    "    'X_230': int(x['X_230'])  ,\n",
    "    'X_270': int(x['X_270'])  ,\n",
    "    'X_522': int(x['X_522'])  ,\n",
    "    'X_19': int(x['X_19'])  ,\n",
    "    'X_107': int(x['X_107'])  ,\n",
    "    'X_846': int(x['X_846'])  ,\n",
    "    'weekday_numeric' : int(x['weekday_numeric']),\n",
    "    'month_numeric' : int(x['month_numeric']),\n",
    "    'timestamp_numeric':int(x['timestamp_numeric'])\n",
    "    \n",
    "}\n",
    "    \n",
    ")\n"
   ]
  },
  {
   "cell_type": "code",
   "execution_count": 68,
   "id": "3d3fcb3c",
   "metadata": {},
   "outputs": [],
   "source": [
    "tf.random.set_seed(50)\n",
    "#385_013\n",
    "shuffled = rating_tf.shuffle(138_813, seed=50, reshuffle_each_iteration=False)\n",
    "#308_010\n",
    "train = shuffled.take(97_169)\n",
    "test = shuffled.skip(97_169).take(41_644)\n",
    "#77_003\n"
   ]
  },
  {
   "cell_type": "code",
   "execution_count": 69,
   "id": "8e702747",
   "metadata": {},
   "outputs": [],
   "source": [
    "cached_train=rating_tf_train.shuffle(130_000).batch(8192).cache()\n",
    "cached_test = rating_tf_train.shuffle(10_000).batch(4096).cache()"
   ]
  },
  {
   "cell_type": "markdown",
   "id": "d7cf184d",
   "metadata": {},
   "source": [
    "#### Cross-validation "
   ]
  },
  {
   "cell_type": "code",
   "execution_count": 70,
   "id": "84fecd8b",
   "metadata": {},
   "outputs": [],
   "source": [
    "def run_models(use_cross_layer, deep_layer_sizes, projection_dim=None, num_runs=5):\n",
    "    models = []\n",
    "    rmses = []\n",
    "\n",
    "    for i in range(num_runs):\n",
    "        model = DCN(use_cross_layer=use_cross_layer,\n",
    "                    deep_layer_sizes=deep_layer_sizes,\n",
    "                    projection_dim=projection_dim)\n",
    "        model.compile(optimizer=tf.keras.optimizers.Adam(learning_rate))\n",
    "        models.append(model)\n",
    "\n",
    "        model.fit(cached_train, epochs=epochs, verbose=False)\n",
    "        metrics = model.evaluate(cached_test, return_dict=True)\n",
    "        \n",
    "        rmses.append(metrics[[i for i in metrics.keys()][0]])\n",
    "\n",
    "    mean, stdv = np.average(rmses), np.std(rmses)\n",
    "\n",
    "    return {\"model\": models, \"mean\": mean, \"stdv\": stdv}\n"
   ]
  },
  {
   "cell_type": "code",
   "execution_count": 124,
   "id": "107308ac",
   "metadata": {},
   "outputs": [
    {
     "name": "stdout",
     "output_type": "stream",
     "text": [
      "32/32 [==============================] - 1s 11ms/step - recall_7: 0.7507 - loss: 0.5806 - regularization_loss: 0.0000e+00 - total_loss: 0.5806\n"
     ]
    },
    {
     "data": {
      "text/plain": [
       "{'recall_7': 0.7506616115570068,\n",
       " 'loss': 0.5708470344543457,\n",
       " 'regularization_loss': 0,\n",
       " 'total_loss': 0.5708470344543457}"
      ]
     },
     "execution_count": 124,
     "metadata": {},
     "output_type": "execute_result"
    }
   ],
   "source": [
    "model = DCN(use_cross_layer=True,\n",
    "                    deep_layer_sizes=[128,64],\n",
    "                    projection_dim=None)\n",
    "model.compile(optimizer=tf.keras.optimizers.Adam(learning_rate))\n",
    "model.fit(cached_train, epochs=epochs, verbose=False)\n",
    "model.evaluate(cached_test, return_dict=True)"
   ]
  },
  {
   "cell_type": "code",
   "execution_count": 125,
   "id": "da29beff",
   "metadata": {},
   "outputs": [
    {
     "name": "stdout",
     "output_type": "stream",
     "text": [
      "32/32 [==============================] - 1s 12ms/step - recall_7: 0.7507 - loss: 0.5806 - regularization_loss: 0.0000e+00 - total_loss: 0.5806\n"
     ]
    }
   ],
   "source": [
    "m=model.evaluate(cached_test, return_dict=True)"
   ]
  },
  {
   "cell_type": "code",
   "execution_count": null,
   "id": "e1675faa",
   "metadata": {},
   "outputs": [],
   "source": [
    "\n",
    "    \n"
   ]
  },
  {
   "cell_type": "markdown",
   "id": "cd6a8998",
   "metadata": {},
   "source": [
    "#### Parameters (cross validated 5 times)\n"
   ]
  },
  {
   "cell_type": "code",
   "execution_count": 73,
   "id": "e44be99d",
   "metadata": {},
   "outputs": [],
   "source": [
    "epochs=100\n",
    "learning_rate=0.001"
   ]
  },
  {
   "cell_type": "markdown",
   "id": "856ac6eb",
   "metadata": {},
   "source": [
    "### 3.1 Results based on test evaluation "
   ]
  },
  {
   "cell_type": "code",
   "execution_count": 74,
   "id": "38b4db2a",
   "metadata": {},
   "outputs": [
    {
     "name": "stdout",
     "output_type": "stream",
     "text": [
      "32/32 [==============================] - 55s 2s/step - recall_1: 0.7552 - loss: 0.5800 - regularization_loss: 0.0000e+00 - total_loss: 0.5800\n",
      "32/32 [==============================] - 1s 12ms/step - recall_2: 0.7579 - loss: 0.5809 - regularization_loss: 0.0000e+00 - total_loss: 0.5809\n",
      "32/32 [==============================] - 1s 11ms/step - recall_3: 0.7569 - loss: 0.5810 - regularization_loss: 0.0000e+00 - total_loss: 0.5810\n",
      "32/32 [==============================] - 1s 12ms/step - recall_4: 0.7543 - loss: 0.5806 - regularization_loss: 0.0000e+00 - total_loss: 0.5806\n",
      "32/32 [==============================] - 1s 11ms/step - recall_5: 0.7610 - loss: 0.5795 - regularization_loss: 0.0000e+00 - total_loss: 0.5795\n"
     ]
    }
   ],
   "source": [
    "dcn_result = run_models(use_cross_layer=True,\n",
    "                        projection_dim=None,\n",
    "                         deep_layer_sizes=[128,64])"
   ]
  },
  {
   "cell_type": "code",
   "execution_count": 75,
   "id": "e6370920",
   "metadata": {},
   "outputs": [
    {
     "name": "stdout",
     "output_type": "stream",
     "text": [
      "DCN            Recall mean: 0.7571, stdv: 0.0024\n"
     ]
    }
   ],
   "source": [
    "print(\"DCN            Recall mean: {:.4f}, stdv: {:.4f}\".format(\n",
    "    dcn_result[\"mean\"], dcn_result[\"stdv\"]))\n"
   ]
  },
  {
   "cell_type": "markdown",
   "id": "6fd896ae",
   "metadata": {},
   "source": [
    "#### Short Explanation:\n",
    "\n",
    "The trained model reaches a 75.71% recall on average after the change on the rating from 1-5 into 0-1.\n",
    "\n"
   ]
  },
  {
   "cell_type": "markdown",
   "id": "015aa977",
   "metadata": {},
   "source": [
    "### 3.2 Prediction for the user 631"
   ]
  },
  {
   "cell_type": "code",
   "execution_count": 92,
   "id": "a4542c99",
   "metadata": {},
   "outputs": [
    {
     "data": {
      "text/html": [
       "<div>\n",
       "<style scoped>\n",
       "    .dataframe tbody tr th:only-of-type {\n",
       "        vertical-align: middle;\n",
       "    }\n",
       "\n",
       "    .dataframe tbody tr th {\n",
       "        vertical-align: top;\n",
       "    }\n",
       "\n",
       "    .dataframe thead th {\n",
       "        text-align: right;\n",
       "    }\n",
       "</style>\n",
       "<table border=\"1\" class=\"dataframe\">\n",
       "  <thead>\n",
       "    <tr style=\"text-align: right;\">\n",
       "      <th></th>\n",
       "      <th>movieId</th>\n",
       "      <th>title</th>\n",
       "      <th>genres</th>\n",
       "      <th>userId</th>\n",
       "      <th>rating</th>\n",
       "      <th>timestamp</th>\n",
       "      <th>timestamp_numeric</th>\n",
       "      <th>weekday_numeric</th>\n",
       "      <th>day_numeric</th>\n",
       "      <th>month_numeric</th>\n",
       "      <th>...</th>\n",
       "      <th>X_1121</th>\n",
       "      <th>X_1122</th>\n",
       "      <th>X_1123</th>\n",
       "      <th>X_1125</th>\n",
       "      <th>X_1126</th>\n",
       "      <th>X_1127</th>\n",
       "      <th>X_1128</th>\n",
       "      <th>X_movieId</th>\n",
       "      <th>Positive_ratings</th>\n",
       "      <th>release_year</th>\n",
       "    </tr>\n",
       "  </thead>\n",
       "  <tbody>\n",
       "    <tr>\n",
       "      <th>370041</th>\n",
       "      <td>73268</td>\n",
       "      <td>Daybreakers (2010)</td>\n",
       "      <td>Action|Drama|Horror|Thriller</td>\n",
       "      <td>3797</td>\n",
       "      <td>3.0</td>\n",
       "      <td>2010-01-19 08:23:26</td>\n",
       "      <td>733791</td>\n",
       "      <td>1</td>\n",
       "      <td>19</td>\n",
       "      <td>1</td>\n",
       "      <td>...</td>\n",
       "      <td>0.0</td>\n",
       "      <td>0.0</td>\n",
       "      <td>0.0</td>\n",
       "      <td>0.0</td>\n",
       "      <td>0.0</td>\n",
       "      <td>0.0</td>\n",
       "      <td>0.0</td>\n",
       "      <td>73268</td>\n",
       "      <td>0</td>\n",
       "      <td>2010.0</td>\n",
       "    </tr>\n",
       "    <tr>\n",
       "      <th>370042</th>\n",
       "      <td>73268</td>\n",
       "      <td>Daybreakers (2010)</td>\n",
       "      <td>Action|Drama|Horror|Thriller</td>\n",
       "      <td>4660</td>\n",
       "      <td>4.0</td>\n",
       "      <td>2010-06-09 05:43:19</td>\n",
       "      <td>733932</td>\n",
       "      <td>2</td>\n",
       "      <td>9</td>\n",
       "      <td>6</td>\n",
       "      <td>...</td>\n",
       "      <td>0.0</td>\n",
       "      <td>0.0</td>\n",
       "      <td>0.0</td>\n",
       "      <td>0.0</td>\n",
       "      <td>0.0</td>\n",
       "      <td>0.0</td>\n",
       "      <td>0.0</td>\n",
       "      <td>73268</td>\n",
       "      <td>1</td>\n",
       "      <td>2010.0</td>\n",
       "    </tr>\n",
       "    <tr>\n",
       "      <th>370043</th>\n",
       "      <td>73268</td>\n",
       "      <td>Daybreakers (2010)</td>\n",
       "      <td>Action|Drama|Horror|Thriller</td>\n",
       "      <td>9397</td>\n",
       "      <td>4.5</td>\n",
       "      <td>2010-09-12 18:01:56</td>\n",
       "      <td>734027</td>\n",
       "      <td>6</td>\n",
       "      <td>12</td>\n",
       "      <td>9</td>\n",
       "      <td>...</td>\n",
       "      <td>0.0</td>\n",
       "      <td>0.0</td>\n",
       "      <td>0.0</td>\n",
       "      <td>0.0</td>\n",
       "      <td>0.0</td>\n",
       "      <td>0.0</td>\n",
       "      <td>0.0</td>\n",
       "      <td>73268</td>\n",
       "      <td>1</td>\n",
       "      <td>2010.0</td>\n",
       "    </tr>\n",
       "    <tr>\n",
       "      <th>370044</th>\n",
       "      <td>73268</td>\n",
       "      <td>Daybreakers (2010)</td>\n",
       "      <td>Action|Drama|Horror|Thriller</td>\n",
       "      <td>11799</td>\n",
       "      <td>3.0</td>\n",
       "      <td>2011-02-13 23:17:06</td>\n",
       "      <td>734181</td>\n",
       "      <td>6</td>\n",
       "      <td>13</td>\n",
       "      <td>2</td>\n",
       "      <td>...</td>\n",
       "      <td>0.0</td>\n",
       "      <td>0.0</td>\n",
       "      <td>0.0</td>\n",
       "      <td>0.0</td>\n",
       "      <td>0.0</td>\n",
       "      <td>0.0</td>\n",
       "      <td>0.0</td>\n",
       "      <td>73268</td>\n",
       "      <td>0</td>\n",
       "      <td>2010.0</td>\n",
       "    </tr>\n",
       "    <tr>\n",
       "      <th>370045</th>\n",
       "      <td>73268</td>\n",
       "      <td>Daybreakers (2010)</td>\n",
       "      <td>Action|Drama|Horror|Thriller</td>\n",
       "      <td>30507</td>\n",
       "      <td>3.0</td>\n",
       "      <td>2015-01-25 10:40:37</td>\n",
       "      <td>735623</td>\n",
       "      <td>6</td>\n",
       "      <td>25</td>\n",
       "      <td>1</td>\n",
       "      <td>...</td>\n",
       "      <td>0.0</td>\n",
       "      <td>0.0</td>\n",
       "      <td>0.0</td>\n",
       "      <td>0.0</td>\n",
       "      <td>0.0</td>\n",
       "      <td>0.0</td>\n",
       "      <td>0.0</td>\n",
       "      <td>73268</td>\n",
       "      <td>0</td>\n",
       "      <td>2010.0</td>\n",
       "    </tr>\n",
       "  </tbody>\n",
       "</table>\n",
       "<p>5 rows × 544 columns</p>\n",
       "</div>"
      ],
      "text/plain": [
       "       movieId               title                        genres userId  \\\n",
       "370041   73268  Daybreakers (2010)  Action|Drama|Horror|Thriller   3797   \n",
       "370042   73268  Daybreakers (2010)  Action|Drama|Horror|Thriller   4660   \n",
       "370043   73268  Daybreakers (2010)  Action|Drama|Horror|Thriller   9397   \n",
       "370044   73268  Daybreakers (2010)  Action|Drama|Horror|Thriller  11799   \n",
       "370045   73268  Daybreakers (2010)  Action|Drama|Horror|Thriller  30507   \n",
       "\n",
       "        rating            timestamp  timestamp_numeric  weekday_numeric  \\\n",
       "370041     3.0  2010-01-19 08:23:26             733791                1   \n",
       "370042     4.0  2010-06-09 05:43:19             733932                2   \n",
       "370043     4.5  2010-09-12 18:01:56             734027                6   \n",
       "370044     3.0  2011-02-13 23:17:06             734181                6   \n",
       "370045     3.0  2015-01-25 10:40:37             735623                6   \n",
       "\n",
       "        day_numeric  month_numeric  ...  X_1121  X_1122  X_1123  X_1125  \\\n",
       "370041           19              1  ...     0.0     0.0     0.0     0.0   \n",
       "370042            9              6  ...     0.0     0.0     0.0     0.0   \n",
       "370043           12              9  ...     0.0     0.0     0.0     0.0   \n",
       "370044           13              2  ...     0.0     0.0     0.0     0.0   \n",
       "370045           25              1  ...     0.0     0.0     0.0     0.0   \n",
       "\n",
       "        X_1126  X_1127  X_1128  X_movieId  Positive_ratings  release_year  \n",
       "370041     0.0     0.0     0.0      73268                 0        2010.0  \n",
       "370042     0.0     0.0     0.0      73268                 1        2010.0  \n",
       "370043     0.0     0.0     0.0      73268                 1        2010.0  \n",
       "370044     0.0     0.0     0.0      73268                 0        2010.0  \n",
       "370045     0.0     0.0     0.0      73268                 0        2010.0  \n",
       "\n",
       "[5 rows x 544 columns]"
      ]
     },
     "execution_count": 92,
     "metadata": {},
     "output_type": "execute_result"
    }
   ],
   "source": [
    "Movie_ratings_given_test.head()"
   ]
  },
  {
   "cell_type": "code",
   "execution_count": null,
   "id": "95190386",
   "metadata": {},
   "outputs": [],
   "source": [
    "Movie_ratings_given_test[Movie_ratings_given_test['userId']==\"3797\"]['month_numeric'][379542]"
   ]
  },
  {
   "cell_type": "code",
   "execution_count": 87,
   "id": "43e22dcb",
   "metadata": {},
   "outputs": [
    {
     "data": {
      "text/plain": [
       "0.0"
      ]
     },
     "execution_count": 87,
     "metadata": {},
     "output_type": "execute_result"
    }
   ],
   "source": [
    "Movie_ratings_given_test[Movie_ratings_given_test['userId']==\"3797\"]['X_846'][371388]"
   ]
  },
  {
   "cell_type": "code",
   "execution_count": null,
   "id": "4767457c",
   "metadata": {},
   "outputs": [],
   "source": [
    "Movie_ratings_given_test[Movie_ratings_given_test['userId']==\"4660\"][\"title\"][372375]"
   ]
  },
  {
   "cell_type": "code",
   "execution_count": 123,
   "id": "08563dfd",
   "metadata": {},
   "outputs": [
    {
     "data": {
      "text/plain": [
       "370042    0.00000\n",
       "372125    0.00000\n",
       "372375    0.00000\n",
       "375344    0.79575\n",
       "375355    0.00000\n",
       "377973    0.00000\n",
       "Name: X_742, dtype: float64"
      ]
     },
     "execution_count": 123,
     "metadata": {},
     "output_type": "execute_result"
    }
   ],
   "source": [
    "Movie_ratings_given_test[Movie_ratings_given_test['userId']==\"4660\"][\"X_742\"]"
   ]
  },
  {
   "cell_type": "code",
   "execution_count": 117,
   "id": "8ef50c18",
   "metadata": {},
   "outputs": [
    {
     "data": {
      "text/plain": [
       "4"
      ]
     },
     "execution_count": 117,
     "metadata": {},
     "output_type": "execute_result"
    }
   ],
   "source": [
    "Movie_ratings_given_test[Movie_ratings_given_test['userId']==\"30507\"][\"weekday_numeric\"][377767]"
   ]
  },
  {
   "cell_type": "code",
   "execution_count": 94,
   "id": "12497650",
   "metadata": {},
   "outputs": [
    {
     "data": {
      "text/html": [
       "<div>\n",
       "<style scoped>\n",
       "    .dataframe tbody tr th:only-of-type {\n",
       "        vertical-align: middle;\n",
       "    }\n",
       "\n",
       "    .dataframe tbody tr th {\n",
       "        vertical-align: top;\n",
       "    }\n",
       "\n",
       "    .dataframe thead th {\n",
       "        text-align: right;\n",
       "    }\n",
       "</style>\n",
       "<table border=\"1\" class=\"dataframe\">\n",
       "  <thead>\n",
       "    <tr style=\"text-align: right;\">\n",
       "      <th></th>\n",
       "      <th>movieId</th>\n",
       "      <th>title</th>\n",
       "      <th>genres</th>\n",
       "      <th>userId</th>\n",
       "      <th>rating</th>\n",
       "      <th>timestamp</th>\n",
       "      <th>timestamp_numeric</th>\n",
       "      <th>weekday_numeric</th>\n",
       "      <th>day_numeric</th>\n",
       "      <th>month_numeric</th>\n",
       "      <th>...</th>\n",
       "      <th>X_1121</th>\n",
       "      <th>X_1122</th>\n",
       "      <th>X_1123</th>\n",
       "      <th>X_1125</th>\n",
       "      <th>X_1126</th>\n",
       "      <th>X_1127</th>\n",
       "      <th>X_1128</th>\n",
       "      <th>X_movieId</th>\n",
       "      <th>Positive_ratings</th>\n",
       "      <th>release_year</th>\n",
       "    </tr>\n",
       "  </thead>\n",
       "  <tbody>\n",
       "    <tr>\n",
       "      <th>370045</th>\n",
       "      <td>73268</td>\n",
       "      <td>Daybreakers (2010)</td>\n",
       "      <td>Action|Drama|Horror|Thriller</td>\n",
       "      <td>30507</td>\n",
       "      <td>3.0</td>\n",
       "      <td>2015-01-25 10:40:37</td>\n",
       "      <td>735623</td>\n",
       "      <td>6</td>\n",
       "      <td>25</td>\n",
       "      <td>1</td>\n",
       "      <td>...</td>\n",
       "      <td>0.0</td>\n",
       "      <td>0.0</td>\n",
       "      <td>0.0</td>\n",
       "      <td>0.0</td>\n",
       "      <td>0.0</td>\n",
       "      <td>0.0</td>\n",
       "      <td>0.0</td>\n",
       "      <td>73268</td>\n",
       "      <td>0</td>\n",
       "      <td>2010.0</td>\n",
       "    </tr>\n",
       "    <tr>\n",
       "      <th>374058</th>\n",
       "      <td>85131</td>\n",
       "      <td>Battle: Los Angeles (2011)</td>\n",
       "      <td>Action|Sci-Fi|War</td>\n",
       "      <td>30507</td>\n",
       "      <td>3.0</td>\n",
       "      <td>2011-08-12 08:46:17</td>\n",
       "      <td>734361</td>\n",
       "      <td>4</td>\n",
       "      <td>12</td>\n",
       "      <td>8</td>\n",
       "      <td>...</td>\n",
       "      <td>0.0</td>\n",
       "      <td>0.0</td>\n",
       "      <td>0.0</td>\n",
       "      <td>0.0</td>\n",
       "      <td>0.0</td>\n",
       "      <td>0.0</td>\n",
       "      <td>0.0</td>\n",
       "      <td>85131</td>\n",
       "      <td>0</td>\n",
       "      <td>2011.0</td>\n",
       "    </tr>\n",
       "    <tr>\n",
       "      <th>374802</th>\n",
       "      <td>87298</td>\n",
       "      <td>Everything Must Go (2010)</td>\n",
       "      <td>Comedy|Drama</td>\n",
       "      <td>30507</td>\n",
       "      <td>3.5</td>\n",
       "      <td>2011-09-12 19:50:37</td>\n",
       "      <td>734392</td>\n",
       "      <td>0</td>\n",
       "      <td>12</td>\n",
       "      <td>9</td>\n",
       "      <td>...</td>\n",
       "      <td>0.0</td>\n",
       "      <td>0.0</td>\n",
       "      <td>0.0</td>\n",
       "      <td>0.0</td>\n",
       "      <td>0.0</td>\n",
       "      <td>0.0</td>\n",
       "      <td>0.0</td>\n",
       "      <td>87298</td>\n",
       "      <td>0</td>\n",
       "      <td>2010.0</td>\n",
       "    </tr>\n",
       "    <tr>\n",
       "      <th>375155</th>\n",
       "      <td>88672</td>\n",
       "      <td>Our Idiot Brother (2011)</td>\n",
       "      <td>Comedy</td>\n",
       "      <td>30507</td>\n",
       "      <td>3.0</td>\n",
       "      <td>2015-01-25 11:41:53</td>\n",
       "      <td>735623</td>\n",
       "      <td>6</td>\n",
       "      <td>25</td>\n",
       "      <td>1</td>\n",
       "      <td>...</td>\n",
       "      <td>0.0</td>\n",
       "      <td>0.0</td>\n",
       "      <td>0.0</td>\n",
       "      <td>0.0</td>\n",
       "      <td>0.0</td>\n",
       "      <td>0.0</td>\n",
       "      <td>0.0</td>\n",
       "      <td>88672</td>\n",
       "      <td>0</td>\n",
       "      <td>2011.0</td>\n",
       "    </tr>\n",
       "    <tr>\n",
       "      <th>375971</th>\n",
       "      <td>91104</td>\n",
       "      <td>Twilight Saga: Breaking Dawn - Part 1, The (2011)</td>\n",
       "      <td>Adventure|Drama|Fantasy|Romance</td>\n",
       "      <td>30507</td>\n",
       "      <td>3.0</td>\n",
       "      <td>2015-01-25 12:10:11</td>\n",
       "      <td>735623</td>\n",
       "      <td>6</td>\n",
       "      <td>25</td>\n",
       "      <td>1</td>\n",
       "      <td>...</td>\n",
       "      <td>0.0</td>\n",
       "      <td>0.0</td>\n",
       "      <td>0.0</td>\n",
       "      <td>0.0</td>\n",
       "      <td>0.0</td>\n",
       "      <td>0.0</td>\n",
       "      <td>0.0</td>\n",
       "      <td>91104</td>\n",
       "      <td>0</td>\n",
       "      <td>2011.0</td>\n",
       "    </tr>\n",
       "    <tr>\n",
       "      <th>377026</th>\n",
       "      <td>95105</td>\n",
       "      <td>Madagascar 3: Europe's Most Wanted (2012)</td>\n",
       "      <td>Adventure|Animation|Children|Comedy|IMAX</td>\n",
       "      <td>30507</td>\n",
       "      <td>3.0</td>\n",
       "      <td>2015-01-24 14:51:51</td>\n",
       "      <td>735622</td>\n",
       "      <td>5</td>\n",
       "      <td>24</td>\n",
       "      <td>1</td>\n",
       "      <td>...</td>\n",
       "      <td>0.0</td>\n",
       "      <td>0.0</td>\n",
       "      <td>0.0</td>\n",
       "      <td>0.0</td>\n",
       "      <td>0.0</td>\n",
       "      <td>0.0</td>\n",
       "      <td>0.0</td>\n",
       "      <td>95105</td>\n",
       "      <td>0</td>\n",
       "      <td>2012.0</td>\n",
       "    </tr>\n",
       "    <tr>\n",
       "      <th>377201</th>\n",
       "      <td>95720</td>\n",
       "      <td>Watch, The (2012)</td>\n",
       "      <td>Comedy|Sci-Fi</td>\n",
       "      <td>30507</td>\n",
       "      <td>2.5</td>\n",
       "      <td>2015-01-24 15:02:23</td>\n",
       "      <td>735622</td>\n",
       "      <td>5</td>\n",
       "      <td>24</td>\n",
       "      <td>1</td>\n",
       "      <td>...</td>\n",
       "      <td>0.0</td>\n",
       "      <td>0.0</td>\n",
       "      <td>0.0</td>\n",
       "      <td>0.0</td>\n",
       "      <td>0.0</td>\n",
       "      <td>0.0</td>\n",
       "      <td>0.0</td>\n",
       "      <td>95720</td>\n",
       "      <td>0</td>\n",
       "      <td>2012.0</td>\n",
       "    </tr>\n",
       "    <tr>\n",
       "      <th>377661</th>\n",
       "      <td>97306</td>\n",
       "      <td>Seven Psychopaths (2012)</td>\n",
       "      <td>Comedy|Crime</td>\n",
       "      <td>30507</td>\n",
       "      <td>3.5</td>\n",
       "      <td>2015-01-24 08:06:00</td>\n",
       "      <td>735622</td>\n",
       "      <td>5</td>\n",
       "      <td>24</td>\n",
       "      <td>1</td>\n",
       "      <td>...</td>\n",
       "      <td>0.0</td>\n",
       "      <td>0.0</td>\n",
       "      <td>0.0</td>\n",
       "      <td>0.0</td>\n",
       "      <td>0.0</td>\n",
       "      <td>0.0</td>\n",
       "      <td>0.0</td>\n",
       "      <td>97306</td>\n",
       "      <td>0</td>\n",
       "      <td>2012.0</td>\n",
       "    </tr>\n",
       "    <tr>\n",
       "      <th>377767</th>\n",
       "      <td>97913</td>\n",
       "      <td>Wreck-It Ralph (2012)</td>\n",
       "      <td>Animation|Comedy</td>\n",
       "      <td>30507</td>\n",
       "      <td>4.0</td>\n",
       "      <td>2015-01-23 15:22:51</td>\n",
       "      <td>735621</td>\n",
       "      <td>4</td>\n",
       "      <td>23</td>\n",
       "      <td>1</td>\n",
       "      <td>...</td>\n",
       "      <td>0.0</td>\n",
       "      <td>0.0</td>\n",
       "      <td>0.0</td>\n",
       "      <td>0.0</td>\n",
       "      <td>0.0</td>\n",
       "      <td>0.0</td>\n",
       "      <td>0.0</td>\n",
       "      <td>97913</td>\n",
       "      <td>1</td>\n",
       "      <td>2012.0</td>\n",
       "    </tr>\n",
       "    <tr>\n",
       "      <th>378842</th>\n",
       "      <td>103810</td>\n",
       "      <td>Red 2 (2013)</td>\n",
       "      <td>Action|Comedy|Crime|Thriller</td>\n",
       "      <td>30507</td>\n",
       "      <td>3.0</td>\n",
       "      <td>2015-01-24 14:51:20</td>\n",
       "      <td>735622</td>\n",
       "      <td>5</td>\n",
       "      <td>24</td>\n",
       "      <td>1</td>\n",
       "      <td>...</td>\n",
       "      <td>0.0</td>\n",
       "      <td>0.0</td>\n",
       "      <td>0.0</td>\n",
       "      <td>0.0</td>\n",
       "      <td>0.0</td>\n",
       "      <td>0.0</td>\n",
       "      <td>0.0</td>\n",
       "      <td>103810</td>\n",
       "      <td>0</td>\n",
       "      <td>2013.0</td>\n",
       "    </tr>\n",
       "    <tr>\n",
       "      <th>378904</th>\n",
       "      <td>104243</td>\n",
       "      <td>Riddick (2013)</td>\n",
       "      <td>Action|Sci-Fi|Thriller|IMAX</td>\n",
       "      <td>30507</td>\n",
       "      <td>3.0</td>\n",
       "      <td>2015-01-24 14:50:41</td>\n",
       "      <td>735622</td>\n",
       "      <td>5</td>\n",
       "      <td>24</td>\n",
       "      <td>1</td>\n",
       "      <td>...</td>\n",
       "      <td>0.0</td>\n",
       "      <td>0.0</td>\n",
       "      <td>0.0</td>\n",
       "      <td>0.0</td>\n",
       "      <td>0.0</td>\n",
       "      <td>0.0</td>\n",
       "      <td>0.0</td>\n",
       "      <td>104243</td>\n",
       "      <td>0</td>\n",
       "      <td>2013.0</td>\n",
       "    </tr>\n",
       "    <tr>\n",
       "      <th>379212</th>\n",
       "      <td>106072</td>\n",
       "      <td>Thor: The Dark World (2013)</td>\n",
       "      <td>Action|Adventure|Fantasy|IMAX</td>\n",
       "      <td>30507</td>\n",
       "      <td>3.5</td>\n",
       "      <td>2015-01-24 14:20:49</td>\n",
       "      <td>735622</td>\n",
       "      <td>5</td>\n",
       "      <td>24</td>\n",
       "      <td>1</td>\n",
       "      <td>...</td>\n",
       "      <td>0.0</td>\n",
       "      <td>0.0</td>\n",
       "      <td>0.0</td>\n",
       "      <td>0.0</td>\n",
       "      <td>0.0</td>\n",
       "      <td>0.0</td>\n",
       "      <td>0.0</td>\n",
       "      <td>106072</td>\n",
       "      <td>0</td>\n",
       "      <td>2013.0</td>\n",
       "    </tr>\n",
       "    <tr>\n",
       "      <th>379813</th>\n",
       "      <td>110127</td>\n",
       "      <td>Noah (2014)</td>\n",
       "      <td>Adventure|Drama|IMAX</td>\n",
       "      <td>30507</td>\n",
       "      <td>2.5</td>\n",
       "      <td>2015-01-24 14:16:37</td>\n",
       "      <td>735622</td>\n",
       "      <td>5</td>\n",
       "      <td>24</td>\n",
       "      <td>1</td>\n",
       "      <td>...</td>\n",
       "      <td>0.0</td>\n",
       "      <td>0.0</td>\n",
       "      <td>0.0</td>\n",
       "      <td>0.0</td>\n",
       "      <td>0.0</td>\n",
       "      <td>0.0</td>\n",
       "      <td>0.0</td>\n",
       "      <td>110127</td>\n",
       "      <td>0</td>\n",
       "      <td>2014.0</td>\n",
       "    </tr>\n",
       "  </tbody>\n",
       "</table>\n",
       "<p>13 rows × 544 columns</p>\n",
       "</div>"
      ],
      "text/plain": [
       "       movieId                                              title  \\\n",
       "370045   73268                                 Daybreakers (2010)   \n",
       "374058   85131                         Battle: Los Angeles (2011)   \n",
       "374802   87298                          Everything Must Go (2010)   \n",
       "375155   88672                           Our Idiot Brother (2011)   \n",
       "375971   91104  Twilight Saga: Breaking Dawn - Part 1, The (2011)   \n",
       "377026   95105          Madagascar 3: Europe's Most Wanted (2012)   \n",
       "377201   95720                                  Watch, The (2012)   \n",
       "377661   97306                           Seven Psychopaths (2012)   \n",
       "377767   97913                              Wreck-It Ralph (2012)   \n",
       "378842  103810                                       Red 2 (2013)   \n",
       "378904  104243                                     Riddick (2013)   \n",
       "379212  106072                        Thor: The Dark World (2013)   \n",
       "379813  110127                                        Noah (2014)   \n",
       "\n",
       "                                          genres userId  rating  \\\n",
       "370045              Action|Drama|Horror|Thriller  30507     3.0   \n",
       "374058                         Action|Sci-Fi|War  30507     3.0   \n",
       "374802                              Comedy|Drama  30507     3.5   \n",
       "375155                                    Comedy  30507     3.0   \n",
       "375971           Adventure|Drama|Fantasy|Romance  30507     3.0   \n",
       "377026  Adventure|Animation|Children|Comedy|IMAX  30507     3.0   \n",
       "377201                             Comedy|Sci-Fi  30507     2.5   \n",
       "377661                              Comedy|Crime  30507     3.5   \n",
       "377767                          Animation|Comedy  30507     4.0   \n",
       "378842              Action|Comedy|Crime|Thriller  30507     3.0   \n",
       "378904               Action|Sci-Fi|Thriller|IMAX  30507     3.0   \n",
       "379212             Action|Adventure|Fantasy|IMAX  30507     3.5   \n",
       "379813                      Adventure|Drama|IMAX  30507     2.5   \n",
       "\n",
       "                  timestamp  timestamp_numeric  weekday_numeric  day_numeric  \\\n",
       "370045  2015-01-25 10:40:37             735623                6           25   \n",
       "374058  2011-08-12 08:46:17             734361                4           12   \n",
       "374802  2011-09-12 19:50:37             734392                0           12   \n",
       "375155  2015-01-25 11:41:53             735623                6           25   \n",
       "375971  2015-01-25 12:10:11             735623                6           25   \n",
       "377026  2015-01-24 14:51:51             735622                5           24   \n",
       "377201  2015-01-24 15:02:23             735622                5           24   \n",
       "377661  2015-01-24 08:06:00             735622                5           24   \n",
       "377767  2015-01-23 15:22:51             735621                4           23   \n",
       "378842  2015-01-24 14:51:20             735622                5           24   \n",
       "378904  2015-01-24 14:50:41             735622                5           24   \n",
       "379212  2015-01-24 14:20:49             735622                5           24   \n",
       "379813  2015-01-24 14:16:37             735622                5           24   \n",
       "\n",
       "        month_numeric  ...  X_1121  X_1122  X_1123  X_1125  X_1126  X_1127  \\\n",
       "370045              1  ...     0.0     0.0     0.0     0.0     0.0     0.0   \n",
       "374058              8  ...     0.0     0.0     0.0     0.0     0.0     0.0   \n",
       "374802              9  ...     0.0     0.0     0.0     0.0     0.0     0.0   \n",
       "375155              1  ...     0.0     0.0     0.0     0.0     0.0     0.0   \n",
       "375971              1  ...     0.0     0.0     0.0     0.0     0.0     0.0   \n",
       "377026              1  ...     0.0     0.0     0.0     0.0     0.0     0.0   \n",
       "377201              1  ...     0.0     0.0     0.0     0.0     0.0     0.0   \n",
       "377661              1  ...     0.0     0.0     0.0     0.0     0.0     0.0   \n",
       "377767              1  ...     0.0     0.0     0.0     0.0     0.0     0.0   \n",
       "378842              1  ...     0.0     0.0     0.0     0.0     0.0     0.0   \n",
       "378904              1  ...     0.0     0.0     0.0     0.0     0.0     0.0   \n",
       "379212              1  ...     0.0     0.0     0.0     0.0     0.0     0.0   \n",
       "379813              1  ...     0.0     0.0     0.0     0.0     0.0     0.0   \n",
       "\n",
       "        X_1128  X_movieId  Positive_ratings  release_year  \n",
       "370045     0.0      73268                 0        2010.0  \n",
       "374058     0.0      85131                 0        2011.0  \n",
       "374802     0.0      87298                 0        2010.0  \n",
       "375155     0.0      88672                 0        2011.0  \n",
       "375971     0.0      91104                 0        2011.0  \n",
       "377026     0.0      95105                 0        2012.0  \n",
       "377201     0.0      95720                 0        2012.0  \n",
       "377661     0.0      97306                 0        2012.0  \n",
       "377767     0.0      97913                 1        2012.0  \n",
       "378842     0.0     103810                 0        2013.0  \n",
       "378904     0.0     104243                 0        2013.0  \n",
       "379212     0.0     106072                 0        2013.0  \n",
       "379813     0.0     110127                 0        2014.0  \n",
       "\n",
       "[13 rows x 544 columns]"
      ]
     },
     "execution_count": 94,
     "metadata": {},
     "output_type": "execute_result"
    }
   ],
   "source": [
    "Movie_ratings_given_test[Movie_ratings_given_test['userId']==\"30507\"]"
   ]
  },
  {
   "cell_type": "code",
   "execution_count": 72,
   "id": "e2a64fb2",
   "metadata": {},
   "outputs": [
    {
     "data": {
      "text/html": [
       "<div>\n",
       "<style scoped>\n",
       "    .dataframe tbody tr th:only-of-type {\n",
       "        vertical-align: middle;\n",
       "    }\n",
       "\n",
       "    .dataframe tbody tr th {\n",
       "        vertical-align: top;\n",
       "    }\n",
       "\n",
       "    .dataframe thead th {\n",
       "        text-align: right;\n",
       "    }\n",
       "</style>\n",
       "<table border=\"1\" class=\"dataframe\">\n",
       "  <thead>\n",
       "    <tr style=\"text-align: right;\">\n",
       "      <th></th>\n",
       "      <th>movieId</th>\n",
       "      <th>title</th>\n",
       "      <th>genres</th>\n",
       "      <th>userId</th>\n",
       "      <th>rating</th>\n",
       "      <th>timestamp</th>\n",
       "      <th>timestamp_numeric</th>\n",
       "      <th>weekday_numeric</th>\n",
       "      <th>day_numeric</th>\n",
       "      <th>month_numeric</th>\n",
       "      <th>...</th>\n",
       "      <th>X_1121</th>\n",
       "      <th>X_1122</th>\n",
       "      <th>X_1123</th>\n",
       "      <th>X_1125</th>\n",
       "      <th>X_1126</th>\n",
       "      <th>X_1127</th>\n",
       "      <th>X_1128</th>\n",
       "      <th>X_movieId</th>\n",
       "      <th>Positive_ratings</th>\n",
       "      <th>release_year</th>\n",
       "    </tr>\n",
       "  </thead>\n",
       "  <tbody>\n",
       "    <tr>\n",
       "      <th>370041</th>\n",
       "      <td>73268</td>\n",
       "      <td>Daybreakers (2010)</td>\n",
       "      <td>Action|Drama|Horror|Thriller</td>\n",
       "      <td>3797</td>\n",
       "      <td>3.0</td>\n",
       "      <td>2010-01-19 08:23:26</td>\n",
       "      <td>733791</td>\n",
       "      <td>1</td>\n",
       "      <td>19</td>\n",
       "      <td>1</td>\n",
       "      <td>...</td>\n",
       "      <td>0.0</td>\n",
       "      <td>0.0</td>\n",
       "      <td>0.0</td>\n",
       "      <td>0.0</td>\n",
       "      <td>0.0</td>\n",
       "      <td>0.0</td>\n",
       "      <td>0.0</td>\n",
       "      <td>73268</td>\n",
       "      <td>0</td>\n",
       "      <td>2010.0</td>\n",
       "    </tr>\n",
       "    <tr>\n",
       "      <th>371388</th>\n",
       "      <td>78209</td>\n",
       "      <td>Get Him to the Greek (2010)</td>\n",
       "      <td>Comedy</td>\n",
       "      <td>3797</td>\n",
       "      <td>3.0</td>\n",
       "      <td>2010-06-06 18:16:33</td>\n",
       "      <td>733929</td>\n",
       "      <td>6</td>\n",
       "      <td>6</td>\n",
       "      <td>6</td>\n",
       "      <td>...</td>\n",
       "      <td>0.0</td>\n",
       "      <td>0.0</td>\n",
       "      <td>0.0</td>\n",
       "      <td>0.0</td>\n",
       "      <td>0.0</td>\n",
       "      <td>0.0</td>\n",
       "      <td>0.0</td>\n",
       "      <td>78209</td>\n",
       "      <td>0</td>\n",
       "      <td>2010.0</td>\n",
       "    </tr>\n",
       "    <tr>\n",
       "      <th>377377</th>\n",
       "      <td>96606</td>\n",
       "      <td>Samsara (2011)</td>\n",
       "      <td>Documentary</td>\n",
       "      <td>3797</td>\n",
       "      <td>3.0</td>\n",
       "      <td>2014-12-29 17:32:57</td>\n",
       "      <td>735596</td>\n",
       "      <td>0</td>\n",
       "      <td>29</td>\n",
       "      <td>12</td>\n",
       "      <td>...</td>\n",
       "      <td>0.0</td>\n",
       "      <td>0.0</td>\n",
       "      <td>0.0</td>\n",
       "      <td>0.0</td>\n",
       "      <td>0.0</td>\n",
       "      <td>0.0</td>\n",
       "      <td>0.0</td>\n",
       "      <td>96606</td>\n",
       "      <td>0</td>\n",
       "      <td>2011.0</td>\n",
       "    </tr>\n",
       "    <tr>\n",
       "      <th>379363</th>\n",
       "      <td>106642</td>\n",
       "      <td>Day of the Doctor, The (2013)</td>\n",
       "      <td>Adventure|Drama|Sci-Fi</td>\n",
       "      <td>3797</td>\n",
       "      <td>3.0</td>\n",
       "      <td>2014-12-19 16:25:54</td>\n",
       "      <td>735586</td>\n",
       "      <td>4</td>\n",
       "      <td>19</td>\n",
       "      <td>12</td>\n",
       "      <td>...</td>\n",
       "      <td>0.0</td>\n",
       "      <td>0.0</td>\n",
       "      <td>0.0</td>\n",
       "      <td>0.0</td>\n",
       "      <td>0.0</td>\n",
       "      <td>0.0</td>\n",
       "      <td>0.0</td>\n",
       "      <td>106642</td>\n",
       "      <td>0</td>\n",
       "      <td>2013.0</td>\n",
       "    </tr>\n",
       "    <tr>\n",
       "      <th>379542</th>\n",
       "      <td>107348</td>\n",
       "      <td>Anchorman 2: The Legend Continues (2013)</td>\n",
       "      <td>Comedy</td>\n",
       "      <td>3797</td>\n",
       "      <td>2.0</td>\n",
       "      <td>2014-06-08 05:00:36</td>\n",
       "      <td>735392</td>\n",
       "      <td>6</td>\n",
       "      <td>8</td>\n",
       "      <td>6</td>\n",
       "      <td>...</td>\n",
       "      <td>0.0</td>\n",
       "      <td>0.0</td>\n",
       "      <td>0.0</td>\n",
       "      <td>0.0</td>\n",
       "      <td>0.0</td>\n",
       "      <td>0.0</td>\n",
       "      <td>0.0</td>\n",
       "      <td>107348</td>\n",
       "      <td>0</td>\n",
       "      <td>2013.0</td>\n",
       "    </tr>\n",
       "  </tbody>\n",
       "</table>\n",
       "<p>5 rows × 544 columns</p>\n",
       "</div>"
      ],
      "text/plain": [
       "       movieId                                     title  \\\n",
       "370041   73268                        Daybreakers (2010)   \n",
       "371388   78209               Get Him to the Greek (2010)   \n",
       "377377   96606                            Samsara (2011)   \n",
       "379363  106642             Day of the Doctor, The (2013)   \n",
       "379542  107348  Anchorman 2: The Legend Continues (2013)   \n",
       "\n",
       "                              genres userId  rating            timestamp  \\\n",
       "370041  Action|Drama|Horror|Thriller   3797     3.0  2010-01-19 08:23:26   \n",
       "371388                        Comedy   3797     3.0  2010-06-06 18:16:33   \n",
       "377377                   Documentary   3797     3.0  2014-12-29 17:32:57   \n",
       "379363        Adventure|Drama|Sci-Fi   3797     3.0  2014-12-19 16:25:54   \n",
       "379542                        Comedy   3797     2.0  2014-06-08 05:00:36   \n",
       "\n",
       "        timestamp_numeric  weekday_numeric  day_numeric  month_numeric  ...  \\\n",
       "370041             733791                1           19              1  ...   \n",
       "371388             733929                6            6              6  ...   \n",
       "377377             735596                0           29             12  ...   \n",
       "379363             735586                4           19             12  ...   \n",
       "379542             735392                6            8              6  ...   \n",
       "\n",
       "        X_1121  X_1122  X_1123  X_1125  X_1126  X_1127  X_1128  X_movieId  \\\n",
       "370041     0.0     0.0     0.0     0.0     0.0     0.0     0.0      73268   \n",
       "371388     0.0     0.0     0.0     0.0     0.0     0.0     0.0      78209   \n",
       "377377     0.0     0.0     0.0     0.0     0.0     0.0     0.0      96606   \n",
       "379363     0.0     0.0     0.0     0.0     0.0     0.0     0.0     106642   \n",
       "379542     0.0     0.0     0.0     0.0     0.0     0.0     0.0     107348   \n",
       "\n",
       "        Positive_ratings  release_year  \n",
       "370041                 0        2010.0  \n",
       "371388                 0        2010.0  \n",
       "377377                 0        2011.0  \n",
       "379363                 0        2013.0  \n",
       "379542                 0        2013.0  \n",
       "\n",
       "[5 rows x 544 columns]"
      ]
     },
     "execution_count": 72,
     "metadata": {},
     "output_type": "execute_result"
    }
   ],
   "source": [
    "Movie_ratings_given_test[Movie_ratings_given_test['userId']==\"3797\"]"
   ]
  },
  {
   "cell_type": "code",
   "execution_count": 76,
   "id": "e142900c",
   "metadata": {},
   "outputs": [
    {
     "data": {
      "text/plain": [
       "<keras.callbacks.History at 0x7f94b365e760>"
      ]
     },
     "execution_count": 76,
     "metadata": {},
     "output_type": "execute_result"
    }
   ],
   "source": [
    "model = DCN(use_cross_layer=True,\n",
    "            deep_layer_sizes=[128,64],\n",
    "            projection_dim=None\n",
    "           )\n",
    "\n",
    "model.compile(optimizer=tf.keras.optimizers.Adam(learning_rate))\n",
    "model.fit(cached_train, epochs=epochs, verbose=False)"
   ]
  },
  {
   "cell_type": "markdown",
   "id": "39ead7ef",
   "metadata": {},
   "source": [
    "Example #1:"
   ]
  },
  {
   "cell_type": "code",
   "execution_count": 105,
   "id": "7665bda0",
   "metadata": {},
   "outputs": [
    {
     "data": {
      "text/plain": [
       "<tf.Tensor: shape=(1, 1), dtype=float32, numpy=array([[9.1850716e-10]], dtype=float32)>"
      ]
     },
     "execution_count": 105,
     "metadata": {},
     "output_type": "execute_result"
    }
   ],
   "source": [
    "model({\"title\":np.array([\"Noah (2014)\"]),\"userId\":np.array([\"30507\"]),\"X_742\":np.array([0.0]),\"X_230\":np.array([0.0]),\"X_270\":np.array([0.0]),\"X_522\":np.array([0.0]),\"X_19\":np.array([0.0]),\"X_107\":np.array([0.0]),\"X_846\":np.array([0.0]),\"weekday_numeric\":np.array([5]),\"month_numeric\":np.array([1]),\"timestamp_numeric\":np.array([735622])})"
   ]
  },
  {
   "cell_type": "code",
   "execution_count": 118,
   "id": "02120571",
   "metadata": {},
   "outputs": [
    {
     "data": {
      "text/plain": [
       "<tf.Tensor: shape=(1, 1), dtype=float32, numpy=array([[3.0220076e-10]], dtype=float32)>"
      ]
     },
     "execution_count": 118,
     "metadata": {},
     "output_type": "execute_result"
    }
   ],
   "source": [
    "model({\"title\":np.array([\"Wreck-It Ralph (2012)\"]),\"userId\":np.array([\"30507\"]),\"X_742\":np.array([0.0]),\"X_230\":np.array([0.0]),\"X_270\":np.array([0.0]),\"X_522\":np.array([0.0]),\"X_19\":np.array([0.0]),\"X_107\":np.array([0.0]),\"X_846\":np.array([0.0]),\"weekday_numeric\":np.array([4]),\"month_numeric\":np.array([1]),\"timestamp_numeric\":np.array([735621])})"
   ]
  },
  {
   "cell_type": "code",
   "execution_count": 88,
   "id": "f9a8d280",
   "metadata": {},
   "outputs": [
    {
     "data": {
      "text/plain": [
       "<tf.Tensor: shape=(1, 1), dtype=float32, numpy=array([[4.4099433e-19]], dtype=float32)>"
      ]
     },
     "execution_count": 88,
     "metadata": {},
     "output_type": "execute_result"
    }
   ],
   "source": [
    "model({\"title\":np.array([\"Anchorman 2: The Legend Continues (2013)\"]),\"userId\":np.array([\"3797\"]),\"X_742\":np.array([0.0]),\"X_230\":np.array([0.97575]),\"X_270\":np.array([0.0]),\"X_522\":np.array([0.0]),\"X_19\":np.array([0.0]),\"X_107\":np.array([0.0]),\"X_846\":np.array([0.0]),\"weekday_numeric\":np.array([6]),\"month_numeric\":np.array([1]),\"timestamp_numeric\":np.array([735392])})"
   ]
  },
  {
   "cell_type": "markdown",
   "id": "a0bc9406",
   "metadata": {},
   "source": [
    "Example #2:"
   ]
  },
  {
   "cell_type": "code",
   "execution_count": 89,
   "id": "1b0c0cbd",
   "metadata": {},
   "outputs": [
    {
     "data": {
      "text/plain": [
       "<tf.Tensor: shape=(1, 1), dtype=float32, numpy=array([[2.2897045e-22]], dtype=float32)>"
      ]
     },
     "execution_count": 89,
     "metadata": {},
     "output_type": "execute_result"
    }
   ],
   "source": [
    "model({\"title\":np.array([\"Get Him to the Greek (2010)\"]),\"userId\":np.array([\"3797\"]),\"X_742\":np.array([0.0]),\"X_230\":np.array([0.9815]),\"X_270\":np.array([0.0]),\"X_522\":np.array([0.0]),\"X_19\":np.array([0.0]),\"X_107\":np.array([0.0]),\"X_846\":np.array([0.0]),\"weekday_numeric\":np.array([6]),\"month_numeric\":np.array([6]),\"timestamp_numeric\":np.array([733929])})"
   ]
  },
  {
   "cell_type": "code",
   "execution_count": 119,
   "id": "5e462e75",
   "metadata": {},
   "outputs": [
    {
     "data": {
      "text/plain": [
       "<tf.Tensor: shape=(1, 1), dtype=float32, numpy=array([[1.]], dtype=float32)>"
      ]
     },
     "execution_count": 119,
     "metadata": {},
     "output_type": "execute_result"
    }
   ],
   "source": [
    "model({\"title\":np.array([\"Switch, The (2010)\"]),\"userId\":np.array([\"4660\"]),\"X_742\":np.array([0.0]),\"X_230\":np.array([0.0]),\"X_270\":np.array([0.0]),\"X_522\":np.array([0.0]),\"X_19\":np.array([0.0]),\"X_107\":np.array([0.0]),\"X_846\":np.array([0.8155]),\"weekday_numeric\":np.array([4]),\"month_numeric\":np.array([4]),\"timestamp_numeric\":np.array([734256])})"
   ]
  },
  {
   "cell_type": "code",
   "execution_count": 120,
   "id": "40c1316c",
   "metadata": {},
   "outputs": [
    {
     "data": {
      "text/plain": [
       "<tf.Tensor: shape=(1, 1), dtype=float32, numpy=array([[1.]], dtype=float32)>"
      ]
     },
     "execution_count": 120,
     "metadata": {},
     "output_type": "execute_result"
    }
   ],
   "source": [
    "model({\"title\":np.array([\"Contagion (2011)\"]),\"userId\":np.array([\"4660\"]),\"X_742\":np.array([0.0]),\"X_230\":np.array([0.0]),\"X_270\":np.array([0.0]),\"X_522\":np.array([0.0]),\"X_19\":np.array([0.0]),\"X_107\":np.array([0.0]),\"X_846\":np.array([0.0]),\"weekday_numeric\":np.array([4]),\"month_numeric\":np.array([1]),\"timestamp_numeric\":np.array([734529])})"
   ]
  },
  {
   "cell_type": "markdown",
   "id": "ef2035f6",
   "metadata": {},
   "source": [
    "### Explanation:\n",
    "\n",
    "The above result 0.00567936, tell us that user **631** would be **more interested** in the movie **Paperman (2012) rather than Toy Story (1995)** with 0.00945155 score. It is important to declare both show similar interest for the user 631."
   ]
  },
  {
   "cell_type": "markdown",
   "id": "421d550a",
   "metadata": {},
   "source": [
    "**Remember** the **tags** created by users:"
   ]
  },
  {
   "cell_type": "code",
   "execution_count": 121,
   "id": "d31b2e4d",
   "metadata": {},
   "outputs": [
    {
     "data": {
      "text/html": [
       "<div>\n",
       "<style scoped>\n",
       "    .dataframe tbody tr th:only-of-type {\n",
       "        vertical-align: middle;\n",
       "    }\n",
       "\n",
       "    .dataframe tbody tr th {\n",
       "        vertical-align: top;\n",
       "    }\n",
       "\n",
       "    .dataframe thead th {\n",
       "        text-align: right;\n",
       "    }\n",
       "</style>\n",
       "<table border=\"1\" class=\"dataframe\">\n",
       "  <thead>\n",
       "    <tr style=\"text-align: right;\">\n",
       "      <th></th>\n",
       "      <th>tagId</th>\n",
       "      <th>movieId</th>\n",
       "      <th>tag</th>\n",
       "    </tr>\n",
       "  </thead>\n",
       "  <tbody>\n",
       "    <tr>\n",
       "      <th>0</th>\n",
       "      <td>742</td>\n",
       "      <td>1618</td>\n",
       "      <td>original</td>\n",
       "    </tr>\n",
       "    <tr>\n",
       "      <th>1</th>\n",
       "      <td>230</td>\n",
       "      <td>938</td>\n",
       "      <td>comedy</td>\n",
       "    </tr>\n",
       "    <tr>\n",
       "      <th>2</th>\n",
       "      <td>270</td>\n",
       "      <td>643</td>\n",
       "      <td>criterion</td>\n",
       "    </tr>\n",
       "    <tr>\n",
       "      <th>3</th>\n",
       "      <td>522</td>\n",
       "      <td>547</td>\n",
       "      <td>horror</td>\n",
       "    </tr>\n",
       "    <tr>\n",
       "      <th>4</th>\n",
       "      <td>19</td>\n",
       "      <td>522</td>\n",
       "      <td>action</td>\n",
       "    </tr>\n",
       "    <tr>\n",
       "      <th>5</th>\n",
       "      <td>846</td>\n",
       "      <td>477</td>\n",
       "      <td>relationships</td>\n",
       "    </tr>\n",
       "    <tr>\n",
       "      <th>6</th>\n",
       "      <td>107</td>\n",
       "      <td>471</td>\n",
       "      <td>based on a book</td>\n",
       "    </tr>\n",
       "  </tbody>\n",
       "</table>\n",
       "</div>"
      ],
      "text/plain": [
       "   tagId  movieId              tag\n",
       "0    742     1618         original\n",
       "1    230      938           comedy\n",
       "2    270      643        criterion\n",
       "3    522      547           horror\n",
       "4     19      522           action\n",
       "5    846      477    relationships\n",
       "6    107      471  based on a book"
      ]
     },
     "execution_count": 121,
     "metadata": {},
     "output_type": "execute_result"
    }
   ],
   "source": [
    "filterto_use1.iloc[range(7),:].merge(tag_desc,on='tagId',how='inner')"
   ]
  },
  {
   "cell_type": "markdown",
   "id": "39ad8120",
   "metadata": {},
   "source": [
    "### 4.1 Feature Importance"
   ]
  },
  {
   "cell_type": "code",
   "execution_count": 122,
   "id": "bcc5cc4d",
   "metadata": {},
   "outputs": [
    {
     "name": "stderr",
     "output_type": "stream",
     "text": [
      "<ipython-input-122-2fb279534dd5>:30: UserWarning: FixedFormatter should only be used together with FixedLocator\n",
      "  _ = ax.set_xticklabels( ['']+features, rotation=45, ha=\"left\", fontsize=8)\n",
      "<ipython-input-122-2fb279534dd5>:31: UserWarning: FixedFormatter should only be used together with FixedLocator\n",
      "  _ = ax.set_yticklabels( ['']+features, fontsize=8)\n"
     ]
    },
    {
     "data": {
      "text/plain": [
       "<Figure size 3600x3600 with 0 Axes>"
      ]
     },
     "metadata": {},
     "output_type": "display_data"
    },
    {
     "data": {
      "image/png": "[encoded data removed]",
      "text/plain": [
       "<Figure size 288x288 with 2 Axes>"
      ]
     },
     "metadata": {
      "needs_background": "light"
     },
     "output_type": "display_data"
    }
   ],
   "source": [
    "%matplotlib inline\n",
    "import matplotlib.pyplot as plt\n",
    "from mpl_toolkits.axes_grid1 import make_axes_locatable\n",
    "from matplotlib.ticker import MultipleLocator\n",
    "\n",
    "model = dcn_result[\"model\"][0]\n",
    "mat = model._cross_layer._dense.kernel\n",
    "features = model._all_features\n",
    "\n",
    "block_norm = np.ones([len(features), len(features)])\n",
    "\n",
    "dim = model.embedding_dimension\n",
    "\n",
    "# Compute the norms of the blocks.\n",
    "for i in range(len(features)):\n",
    "        for j in range(len(features)):\n",
    "            block = mat[i * dim:(i + 1) * dim,\n",
    "                        j * dim:(j + 1) * dim]\n",
    "            block_norm[i,j] = np.linalg.norm(block, ord=\"fro\")\n",
    "\n",
    "plt.figure(figsize=(50,50))\n",
    "im = plt.matshow(block_norm, cmap=plt.cm.Blues)\n",
    "ax = plt.gca()\n",
    "divider = make_axes_locatable(plt.gca())\n",
    "cax = divider.append_axes(\"right\", size=\"5%\", pad=0.01)\n",
    "plt.colorbar(im, cax=cax)\n",
    "cax.tick_params(labelsize=5) \n",
    "ax.yaxis.set_major_locator(MultipleLocator(1))\n",
    "ax.xaxis.set_major_locator(MultipleLocator(1))\n",
    "_ = ax.set_xticklabels( ['']+features, rotation=45, ha=\"left\", fontsize=8)\n",
    "_ = ax.set_yticklabels( ['']+features, fontsize=8)"
   ]
  },
  {
   "cell_type": "code",
   "execution_count": null,
   "id": "4b07fc43",
   "metadata": {},
   "outputs": [],
   "source": [
    "features"
   ]
  },
  {
   "cell_type": "markdown",
   "id": "db5164dd",
   "metadata": {},
   "source": [
    "### Explanation:"
   ]
  },
  {
   "cell_type": "markdown",
   "id": "19234b12",
   "metadata": {},
   "source": [
    "As it is expected the userId and Title are the most important features . The time features are not working well in the cross layer model.\n",
    "\n",
    "The metric used to show the feature importance is the Euclidean Norm which is an standard  measure to locate and calculate distance between objects in R(n)"
   ]
  },
  {
   "cell_type": "code",
   "execution_count": null,
   "id": "1012a4c7",
   "metadata": {},
   "outputs": [],
   "source": []
  }
 ],
 "metadata": {
  "kernelspec": {
   "display_name": "Python 3",
   "language": "python",
   "name": "python3"
  },
  "language_info": {
   "codemirror_mode": {
    "name": "ipython",
    "version": 3
   },
   "file_extension": ".py",
   "mimetype": "text/x-python",
   "name": "python",
   "nbconvert_exporter": "python",
   "pygments_lexer": "ipython3",
   "version": "3.8.8"
  }
 },
 "nbformat": 4,
 "nbformat_minor": 5
}
